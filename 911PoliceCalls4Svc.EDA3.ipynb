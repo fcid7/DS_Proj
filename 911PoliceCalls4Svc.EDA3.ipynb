{
 "cells": [
  {
   "cell_type": "markdown",
   "metadata": {},
   "source": [
    "#Data Science Career Track (Springboard/DataCamp)\n",
    "#Topic:   Capstone Project - 911 Police Calls for Service EDA, (Baltimore, MD)\n",
    "#Student: Franklin Cid\n",
    "#Mentor:  Milad Toutounchian"
   ]
  },
  {
   "cell_type": "markdown",
   "metadata": {},
   "source": [
    "#0 Import packages and visualization libraries"
   ]
  },
  {
   "cell_type": "code",
   "execution_count": 1,
   "metadata": {},
   "outputs": [],
   "source": [
    "import pandas as pd\n",
    "import numpy as np\n",
    "import seaborn as sns\n",
    "import matplotlib.pyplot as plt\n",
    "% matplotlib inline"
   ]
  },
  {
   "cell_type": "markdown",
   "metadata": {},
   "source": [
    "#1 read 911 calls"
   ]
  },
  {
   "cell_type": "code",
   "execution_count": 2,
   "metadata": {},
   "outputs": [],
   "source": [
    "c911 = pd.read_csv('Data/w911PoliceCalls_BaltimoreMD.csv')"
   ]
  },
  {
   "cell_type": "markdown",
   "metadata": {},
   "source": [
    "#2 Pull c911 into a df, just including needed columns, and set the index. Change col name 'description' to 'callType' (reason for the call)."
   ]
  },
  {
   "cell_type": "code",
   "execution_count": 3,
   "metadata": {},
   "outputs": [
    {
     "data": {
      "text/html": [
       "<div>\n",
       "<style scoped>\n",
       "    .dataframe tbody tr th:only-of-type {\n",
       "        vertical-align: middle;\n",
       "    }\n",
       "\n",
       "    .dataframe tbody tr th {\n",
       "        vertical-align: top;\n",
       "    }\n",
       "\n",
       "    .dataframe thead th {\n",
       "        text-align: right;\n",
       "    }\n",
       "</style>\n",
       "<table border=\"1\" class=\"dataframe\">\n",
       "  <thead>\n",
       "    <tr style=\"text-align: right;\">\n",
       "      <th></th>\n",
       "      <th>callDateTime</th>\n",
       "      <th>priority</th>\n",
       "      <th>district</th>\n",
       "      <th>callType</th>\n",
       "    </tr>\n",
       "  </thead>\n",
       "  <tbody>\n",
       "    <tr>\n",
       "      <th>0</th>\n",
       "      <td>08/10/2017 03:25:00 PM</td>\n",
       "      <td>Low</td>\n",
       "      <td>ND</td>\n",
       "      <td>LARCENY</td>\n",
       "    </tr>\n",
       "    <tr>\n",
       "      <th>1</th>\n",
       "      <td>08/23/2017 12:53:00 PM</td>\n",
       "      <td>Medium</td>\n",
       "      <td>NE</td>\n",
       "      <td>911/NO  VOICE</td>\n",
       "    </tr>\n",
       "    <tr>\n",
       "      <th>2</th>\n",
       "      <td>08/07/2017 06:57:00 PM</td>\n",
       "      <td>Medium</td>\n",
       "      <td>ED</td>\n",
       "      <td>911/NO  VOICE</td>\n",
       "    </tr>\n",
       "    <tr>\n",
       "      <th>3</th>\n",
       "      <td>08/18/2017 09:05:00 PM</td>\n",
       "      <td>Low</td>\n",
       "      <td>NW</td>\n",
       "      <td>AUTO ACCIDENT</td>\n",
       "    </tr>\n",
       "    <tr>\n",
       "      <th>4</th>\n",
       "      <td>06/27/2015 03:12:00 PM</td>\n",
       "      <td>Non-Emergency</td>\n",
       "      <td>ND</td>\n",
       "      <td>LOUD MUSIC</td>\n",
       "    </tr>\n",
       "    <tr>\n",
       "      <th>5</th>\n",
       "      <td>08/23/2017 10:09:00 AM</td>\n",
       "      <td>High</td>\n",
       "      <td>NW</td>\n",
       "      <td>AUDIBLE ALARM</td>\n",
       "    </tr>\n",
       "  </tbody>\n",
       "</table>\n",
       "</div>"
      ],
      "text/plain": [
       "             callDateTime       priority district       callType\n",
       "0  08/10/2017 03:25:00 PM            Low       ND        LARCENY\n",
       "1  08/23/2017 12:53:00 PM         Medium       NE  911/NO  VOICE\n",
       "2  08/07/2017 06:57:00 PM         Medium       ED  911/NO  VOICE\n",
       "3  08/18/2017 09:05:00 PM            Low       NW  AUTO ACCIDENT\n",
       "4  06/27/2015 03:12:00 PM  Non-Emergency       ND     LOUD MUSIC\n",
       "5  08/23/2017 10:09:00 AM           High       NW  AUDIBLE ALARM"
      ]
     },
     "execution_count": 3,
     "metadata": {},
     "output_type": "execute_result"
    }
   ],
   "source": [
    "df911 = pd.DataFrame(c911, columns=['callDateTime', 'priority', 'district', 'description'])\n",
    "df911.columns = df911.columns.str.replace('description','callType')\n",
    "df911.head(6) #chk"
   ]
  },
  {
   "cell_type": "markdown",
   "metadata": {},
   "source": [
    "#3 Cast callDateTime => dateTime (no date fx available), new col=dT"
   ]
  },
  {
   "cell_type": "code",
   "execution_count": null,
   "metadata": {},
   "outputs": [],
   "source": [
    "#import timeit %timeit \n",
    "df911['dT'] =pd.to_datetime(df911.callDateTime)\n",
    "df911.head(6) #chk run1 = 15-min; ? 2:36 - 2:52 = 16 min"
   ]
  },
  {
   "cell_type": "code",
   "execution_count": 7,
   "metadata": {},
   "outputs": [
    {
     "data": {
      "text/html": [
       "<div>\n",
       "<style scoped>\n",
       "    .dataframe tbody tr th:only-of-type {\n",
       "        vertical-align: middle;\n",
       "    }\n",
       "\n",
       "    .dataframe tbody tr th {\n",
       "        vertical-align: top;\n",
       "    }\n",
       "\n",
       "    .dataframe thead th {\n",
       "        text-align: right;\n",
       "    }\n",
       "</style>\n",
       "<table border=\"1\" class=\"dataframe\">\n",
       "  <thead>\n",
       "    <tr style=\"text-align: right;\">\n",
       "      <th></th>\n",
       "      <th>callDateTime</th>\n",
       "      <th>priority</th>\n",
       "      <th>district</th>\n",
       "      <th>callType</th>\n",
       "      <th>dT</th>\n",
       "    </tr>\n",
       "  </thead>\n",
       "  <tbody>\n",
       "    <tr>\n",
       "      <th>0</th>\n",
       "      <td>08/10/2017 03:25:00 PM</td>\n",
       "      <td>Low</td>\n",
       "      <td>ND</td>\n",
       "      <td>LARCENY</td>\n",
       "      <td>2017-08-10 15:25:00</td>\n",
       "    </tr>\n",
       "    <tr>\n",
       "      <th>1</th>\n",
       "      <td>08/23/2017 12:53:00 PM</td>\n",
       "      <td>Medium</td>\n",
       "      <td>NE</td>\n",
       "      <td>911/NO  VOICE</td>\n",
       "      <td>2017-08-23 12:53:00</td>\n",
       "    </tr>\n",
       "    <tr>\n",
       "      <th>2</th>\n",
       "      <td>08/07/2017 06:57:00 PM</td>\n",
       "      <td>Medium</td>\n",
       "      <td>ED</td>\n",
       "      <td>911/NO  VOICE</td>\n",
       "      <td>2017-08-07 18:57:00</td>\n",
       "    </tr>\n",
       "    <tr>\n",
       "      <th>3</th>\n",
       "      <td>08/18/2017 09:05:00 PM</td>\n",
       "      <td>Low</td>\n",
       "      <td>NW</td>\n",
       "      <td>AUTO ACCIDENT</td>\n",
       "      <td>2017-08-18 21:05:00</td>\n",
       "    </tr>\n",
       "    <tr>\n",
       "      <th>4</th>\n",
       "      <td>06/27/2015 03:12:00 PM</td>\n",
       "      <td>Non-Emergency</td>\n",
       "      <td>ND</td>\n",
       "      <td>LOUD MUSIC</td>\n",
       "      <td>2015-06-27 15:12:00</td>\n",
       "    </tr>\n",
       "    <tr>\n",
       "      <th>5</th>\n",
       "      <td>08/23/2017 10:09:00 AM</td>\n",
       "      <td>High</td>\n",
       "      <td>NW</td>\n",
       "      <td>AUDIBLE ALARM</td>\n",
       "      <td>2017-08-23 10:09:00</td>\n",
       "    </tr>\n",
       "  </tbody>\n",
       "</table>\n",
       "</div>"
      ],
      "text/plain": [
       "             callDateTime       priority district       callType  \\\n",
       "0  08/10/2017 03:25:00 PM            Low       ND        LARCENY   \n",
       "1  08/23/2017 12:53:00 PM         Medium       NE  911/NO  VOICE   \n",
       "2  08/07/2017 06:57:00 PM         Medium       ED  911/NO  VOICE   \n",
       "3  08/18/2017 09:05:00 PM            Low       NW  AUTO ACCIDENT   \n",
       "4  06/27/2015 03:12:00 PM  Non-Emergency       ND     LOUD MUSIC   \n",
       "5  08/23/2017 10:09:00 AM           High       NW  AUDIBLE ALARM   \n",
       "\n",
       "                   dT  \n",
       "0 2017-08-10 15:25:00  \n",
       "1 2017-08-23 12:53:00  \n",
       "2 2017-08-07 18:57:00  \n",
       "3 2017-08-18 21:05:00  \n",
       "4 2015-06-27 15:12:00  \n",
       "5 2017-08-23 10:09:00  "
      ]
     },
     "execution_count": 7,
     "metadata": {},
     "output_type": "execute_result"
    }
   ],
   "source": [
    "#devMode: \n",
    "dev = 0 # [0, 1, 2]; 0=init, default 1=dev, 2=prod \n",
    "csvDT = 'Data/w911PoliceCalls_BaltimoreMD_dt.csv'\n",
    "if dev == 0:\n",
    "    df911.to_csv(csvDT, sep=',', encoding='utf-8')\n",
    "if dev == 1:  #START HERE in this block\n",
    "    c911 = pd.read_csv(csvDT, 'r')\n",
    "    columns=['priority', 'district', 'callType', 'dT']\n",
    "    df911 = pd.DataFrame(c911, columns=cols)\n",
    "    df911['callDateTime'] = ''\n",
    "else:\n",
    "    dev = dev  #do NOTHING\n",
    "    \n",
    "df911dT = df911.copy()   # df911 = df911dT.copy()\n",
    "df911dT.head(6) #chk run1 = 15-min; ? 2:36 - 2:52 = 16 min"
   ]
  },
  {
   "cell_type": "markdown",
   "metadata": {},
   "source": [
    "##4 Set the INDEX and SORT before filtering the target datasets. Also, make a df copy with dT.\n",
    "#a) dfCallTypeDistrict (Jan/2015, Jan/2016, Jan/2017; daily totals), and \n",
    "#b) dfPriority (full years of 2015, 2016, 2017; monthly totals)"
   ]
  },
  {
   "cell_type": "code",
   "execution_count": 9,
   "metadata": {},
   "outputs": [
    {
     "data": {
      "text/html": [
       "<div>\n",
       "<style scoped>\n",
       "    .dataframe tbody tr th:only-of-type {\n",
       "        vertical-align: middle;\n",
       "    }\n",
       "\n",
       "    .dataframe tbody tr th {\n",
       "        vertical-align: top;\n",
       "    }\n",
       "\n",
       "    .dataframe thead th {\n",
       "        text-align: right;\n",
       "    }\n",
       "</style>\n",
       "<table border=\"1\" class=\"dataframe\">\n",
       "  <thead>\n",
       "    <tr style=\"text-align: right;\">\n",
       "      <th></th>\n",
       "      <th>callDateTime</th>\n",
       "      <th>priority</th>\n",
       "      <th>district</th>\n",
       "      <th>callType</th>\n",
       "      <th>dT</th>\n",
       "    </tr>\n",
       "  </thead>\n",
       "  <tbody>\n",
       "    <tr>\n",
       "      <th>1106565</th>\n",
       "      <td>01/01/2015 12:01:00 AM</td>\n",
       "      <td>High</td>\n",
       "      <td>NW</td>\n",
       "      <td>Dischrg Firearm</td>\n",
       "      <td>2015-01-01 00:01:00</td>\n",
       "    </tr>\n",
       "    <tr>\n",
       "      <th>357881</th>\n",
       "      <td>01/01/2015 12:01:00 AM</td>\n",
       "      <td>High</td>\n",
       "      <td>SW</td>\n",
       "      <td>Shooting</td>\n",
       "      <td>2015-01-01 00:01:00</td>\n",
       "    </tr>\n",
       "    <tr>\n",
       "      <th>359329</th>\n",
       "      <td>01/01/2015 12:01:00 AM</td>\n",
       "      <td>Low</td>\n",
       "      <td>SW</td>\n",
       "      <td>Other</td>\n",
       "      <td>2015-01-01 00:01:00</td>\n",
       "    </tr>\n",
       "    <tr>\n",
       "      <th>359125</th>\n",
       "      <td>01/01/2015 12:02:00 AM</td>\n",
       "      <td>Low</td>\n",
       "      <td>SW</td>\n",
       "      <td>Subject stop</td>\n",
       "      <td>2015-01-01 00:02:00</td>\n",
       "    </tr>\n",
       "    <tr>\n",
       "      <th>359340</th>\n",
       "      <td>01/01/2015 12:02:00 AM</td>\n",
       "      <td>High</td>\n",
       "      <td>SW</td>\n",
       "      <td>Dischrg Firearm</td>\n",
       "      <td>2015-01-01 00:02:00</td>\n",
       "    </tr>\n",
       "    <tr>\n",
       "      <th>358628</th>\n",
       "      <td>01/01/2015 12:02:00 AM</td>\n",
       "      <td>High</td>\n",
       "      <td>NE</td>\n",
       "      <td>Dischrg Firearm</td>\n",
       "      <td>2015-01-01 00:02:00</td>\n",
       "    </tr>\n",
       "  </tbody>\n",
       "</table>\n",
       "</div>"
      ],
      "text/plain": [
       "                   callDateTime priority district         callType  \\\n",
       "1106565  01/01/2015 12:01:00 AM     High       NW  Dischrg Firearm   \n",
       "357881   01/01/2015 12:01:00 AM     High       SW         Shooting   \n",
       "359329   01/01/2015 12:01:00 AM      Low       SW            Other   \n",
       "359125   01/01/2015 12:02:00 AM      Low       SW     Subject stop   \n",
       "359340   01/01/2015 12:02:00 AM     High       SW  Dischrg Firearm   \n",
       "358628   01/01/2015 12:02:00 AM     High       NE  Dischrg Firearm   \n",
       "\n",
       "                         dT  \n",
       "1106565 2015-01-01 00:01:00  \n",
       "357881  2015-01-01 00:01:00  \n",
       "359329  2015-01-01 00:01:00  \n",
       "359125  2015-01-01 00:02:00  \n",
       "359340  2015-01-01 00:02:00  \n",
       "358628  2015-01-01 00:02:00  "
      ]
     },
     "execution_count": 9,
     "metadata": {},
     "output_type": "execute_result"
    }
   ],
   "source": [
    "#df911dT = df911.copy() #TEST: copy with dT\n",
    "#df911 = df911dT.copy() #TEST: \n",
    "df911.set_index('dT', drop=True)\n",
    "df911.sort_values(by='dT', inplace=True)\n",
    "df911.head(6) #chk"
   ]
  },
  {
   "cell_type": "markdown",
   "metadata": {},
   "source": [
    "#5 Create needed columns for manipulating/grouping data later.\n",
    "#Calculate the dateparts for yr, mo, and dy.\n",
    "#Now, Drop callDateTime col."
   ]
  },
  {
   "cell_type": "code",
   "execution_count": 10,
   "metadata": {},
   "outputs": [
    {
     "data": {
      "text/html": [
       "<div>\n",
       "<style scoped>\n",
       "    .dataframe tbody tr th:only-of-type {\n",
       "        vertical-align: middle;\n",
       "    }\n",
       "\n",
       "    .dataframe tbody tr th {\n",
       "        vertical-align: top;\n",
       "    }\n",
       "\n",
       "    .dataframe thead th {\n",
       "        text-align: right;\n",
       "    }\n",
       "</style>\n",
       "<table border=\"1\" class=\"dataframe\">\n",
       "  <thead>\n",
       "    <tr style=\"text-align: right;\">\n",
       "      <th></th>\n",
       "      <th>callDateTime</th>\n",
       "      <th>priority</th>\n",
       "      <th>district</th>\n",
       "      <th>callType</th>\n",
       "      <th>dT</th>\n",
       "      <th>yr</th>\n",
       "      <th>mo</th>\n",
       "      <th>dy</th>\n",
       "    </tr>\n",
       "  </thead>\n",
       "  <tbody>\n",
       "    <tr>\n",
       "      <th>2492563</th>\n",
       "      <td>10/10/2018 11:43:00 AM</td>\n",
       "      <td>Low</td>\n",
       "      <td>NE</td>\n",
       "      <td>ESCORT</td>\n",
       "      <td>2018-10-10 11:43:00</td>\n",
       "      <td>2018</td>\n",
       "      <td>10</td>\n",
       "      <td>10</td>\n",
       "    </tr>\n",
       "    <tr>\n",
       "      <th>2492696</th>\n",
       "      <td>10/10/2018 11:44:00 AM</td>\n",
       "      <td>Medium</td>\n",
       "      <td>ED</td>\n",
       "      <td>DISORDERLY</td>\n",
       "      <td>2018-10-10 11:44:00</td>\n",
       "      <td>2018</td>\n",
       "      <td>10</td>\n",
       "      <td>10</td>\n",
       "    </tr>\n",
       "    <tr>\n",
       "      <th>2492673</th>\n",
       "      <td>10/10/2018 11:44:00 AM</td>\n",
       "      <td>Low</td>\n",
       "      <td>NW</td>\n",
       "      <td>CHECKWELLBEING</td>\n",
       "      <td>2018-10-10 11:44:00</td>\n",
       "      <td>2018</td>\n",
       "      <td>10</td>\n",
       "      <td>10</td>\n",
       "    </tr>\n",
       "    <tr>\n",
       "      <th>2492546</th>\n",
       "      <td>10/10/2018 11:45:00 AM</td>\n",
       "      <td>Medium</td>\n",
       "      <td>NE</td>\n",
       "      <td>FAMILY DISTURB</td>\n",
       "      <td>2018-10-10 11:45:00</td>\n",
       "      <td>2018</td>\n",
       "      <td>10</td>\n",
       "      <td>10</td>\n",
       "    </tr>\n",
       "    <tr>\n",
       "      <th>2492589</th>\n",
       "      <td>10/10/2018 11:45:00 AM</td>\n",
       "      <td>High</td>\n",
       "      <td>NE</td>\n",
       "      <td>SILENT ALARM</td>\n",
       "      <td>2018-10-10 11:45:00</td>\n",
       "      <td>2018</td>\n",
       "      <td>10</td>\n",
       "      <td>10</td>\n",
       "    </tr>\n",
       "  </tbody>\n",
       "</table>\n",
       "</div>"
      ],
      "text/plain": [
       "                   callDateTime priority district        callType  \\\n",
       "2492563  10/10/2018 11:43:00 AM      Low       NE          ESCORT   \n",
       "2492696  10/10/2018 11:44:00 AM   Medium       ED      DISORDERLY   \n",
       "2492673  10/10/2018 11:44:00 AM      Low       NW  CHECKWELLBEING   \n",
       "2492546  10/10/2018 11:45:00 AM   Medium       NE  FAMILY DISTURB   \n",
       "2492589  10/10/2018 11:45:00 AM     High       NE    SILENT ALARM   \n",
       "\n",
       "                         dT    yr  mo  dy  \n",
       "2492563 2018-10-10 11:43:00  2018  10  10  \n",
       "2492696 2018-10-10 11:44:00  2018  10  10  \n",
       "2492673 2018-10-10 11:44:00  2018  10  10  \n",
       "2492546 2018-10-10 11:45:00  2018  10  10  \n",
       "2492589 2018-10-10 11:45:00  2018  10  10  "
      ]
     },
     "execution_count": 10,
     "metadata": {},
     "output_type": "execute_result"
    }
   ],
   "source": [
    "df911['yr'] = ''; df911['mo'] = ''; df911['dy'] = ''\n",
    "df911.yr = pd.DatetimeIndex(df911.dT).year\n",
    "df911.mo = pd.DatetimeIndex(df911.dT).month\n",
    "df911.dy = pd.DatetimeIndex(df911.dT).day\n",
    "df911.tail() #chk"
   ]
  },
  {
   "cell_type": "code",
   "execution_count": 12,
   "metadata": {},
   "outputs": [
    {
     "data": {
      "text/html": [
       "<div>\n",
       "<style scoped>\n",
       "    .dataframe tbody tr th:only-of-type {\n",
       "        vertical-align: middle;\n",
       "    }\n",
       "\n",
       "    .dataframe tbody tr th {\n",
       "        vertical-align: top;\n",
       "    }\n",
       "\n",
       "    .dataframe thead th {\n",
       "        text-align: right;\n",
       "    }\n",
       "</style>\n",
       "<table border=\"1\" class=\"dataframe\">\n",
       "  <thead>\n",
       "    <tr style=\"text-align: right;\">\n",
       "      <th></th>\n",
       "      <th>priority</th>\n",
       "      <th>district</th>\n",
       "      <th>callType</th>\n",
       "      <th>dT</th>\n",
       "      <th>yr</th>\n",
       "      <th>mo</th>\n",
       "      <th>dy</th>\n",
       "    </tr>\n",
       "  </thead>\n",
       "  <tbody>\n",
       "    <tr>\n",
       "      <th>2492563</th>\n",
       "      <td>Low</td>\n",
       "      <td>NE</td>\n",
       "      <td>ESCORT</td>\n",
       "      <td>2018-10-10 11:43:00</td>\n",
       "      <td>2018</td>\n",
       "      <td>10</td>\n",
       "      <td>10</td>\n",
       "    </tr>\n",
       "    <tr>\n",
       "      <th>2492696</th>\n",
       "      <td>Medium</td>\n",
       "      <td>ED</td>\n",
       "      <td>DISORDERLY</td>\n",
       "      <td>2018-10-10 11:44:00</td>\n",
       "      <td>2018</td>\n",
       "      <td>10</td>\n",
       "      <td>10</td>\n",
       "    </tr>\n",
       "    <tr>\n",
       "      <th>2492673</th>\n",
       "      <td>Low</td>\n",
       "      <td>NW</td>\n",
       "      <td>CHECKWELLBEING</td>\n",
       "      <td>2018-10-10 11:44:00</td>\n",
       "      <td>2018</td>\n",
       "      <td>10</td>\n",
       "      <td>10</td>\n",
       "    </tr>\n",
       "    <tr>\n",
       "      <th>2492546</th>\n",
       "      <td>Medium</td>\n",
       "      <td>NE</td>\n",
       "      <td>FAMILY DISTURB</td>\n",
       "      <td>2018-10-10 11:45:00</td>\n",
       "      <td>2018</td>\n",
       "      <td>10</td>\n",
       "      <td>10</td>\n",
       "    </tr>\n",
       "    <tr>\n",
       "      <th>2492589</th>\n",
       "      <td>High</td>\n",
       "      <td>NE</td>\n",
       "      <td>SILENT ALARM</td>\n",
       "      <td>2018-10-10 11:45:00</td>\n",
       "      <td>2018</td>\n",
       "      <td>10</td>\n",
       "      <td>10</td>\n",
       "    </tr>\n",
       "  </tbody>\n",
       "</table>\n",
       "</div>"
      ],
      "text/plain": [
       "        priority district        callType                  dT    yr  mo  dy\n",
       "2492563      Low       NE          ESCORT 2018-10-10 11:43:00  2018  10  10\n",
       "2492696   Medium       ED      DISORDERLY 2018-10-10 11:44:00  2018  10  10\n",
       "2492673      Low       NW  CHECKWELLBEING 2018-10-10 11:44:00  2018  10  10\n",
       "2492546   Medium       NE  FAMILY DISTURB 2018-10-10 11:45:00  2018  10  10\n",
       "2492589     High       NE    SILENT ALARM 2018-10-10 11:45:00  2018  10  10"
      ]
     },
     "execution_count": 12,
     "metadata": {},
     "output_type": "execute_result"
    }
   ],
   "source": [
    "#Drop callDateTime col now.\n",
    "df911 = df911.drop('callDateTime', axis=1) #3858058 rows × 7 columns\n",
    "df911.tail() #chk"
   ]
  },
  {
   "cell_type": "code",
   "execution_count": 14,
   "metadata": {},
   "outputs": [],
   "source": [
    "#6 #Data wrangle: df911\n",
    "##6a Filter: 01/2015 - 12/2017 (3 full years)\n",
    "##6b Empty/NaN/NULL \n",
    "##6c Uppercase/Lowercase - make all CallTypes Upper()\n",
    "##6d Mistyped - extra space, \n",
    "##6e Work only on top 5 district\n",
    "##6f Work only on top 4 priority \n",
    "##6g Work only on top 5 callType"
   ]
  },
  {
   "cell_type": "code",
   "execution_count": 15,
   "metadata": {},
   "outputs": [
    {
     "data": {
      "text/html": [
       "<div>\n",
       "<style scoped>\n",
       "    .dataframe tbody tr th:only-of-type {\n",
       "        vertical-align: middle;\n",
       "    }\n",
       "\n",
       "    .dataframe tbody tr th {\n",
       "        vertical-align: top;\n",
       "    }\n",
       "\n",
       "    .dataframe thead th {\n",
       "        text-align: right;\n",
       "    }\n",
       "</style>\n",
       "<table border=\"1\" class=\"dataframe\">\n",
       "  <thead>\n",
       "    <tr style=\"text-align: right;\">\n",
       "      <th></th>\n",
       "      <th>priority</th>\n",
       "      <th>district</th>\n",
       "      <th>callType</th>\n",
       "      <th>dT</th>\n",
       "      <th>yr</th>\n",
       "      <th>mo</th>\n",
       "      <th>dy</th>\n",
       "    </tr>\n",
       "  </thead>\n",
       "  <tbody>\n",
       "    <tr>\n",
       "      <th>140102</th>\n",
       "      <td>Medium</td>\n",
       "      <td>NE</td>\n",
       "      <td>FAMILY DISTURB</td>\n",
       "      <td>2017-12-31 23:58:00</td>\n",
       "      <td>2017</td>\n",
       "      <td>12</td>\n",
       "      <td>31</td>\n",
       "    </tr>\n",
       "    <tr>\n",
       "      <th>3083878</th>\n",
       "      <td>Low</td>\n",
       "      <td>CD</td>\n",
       "      <td>OTHER</td>\n",
       "      <td>2017-12-31 23:58:00</td>\n",
       "      <td>2017</td>\n",
       "      <td>12</td>\n",
       "      <td>31</td>\n",
       "    </tr>\n",
       "    <tr>\n",
       "      <th>873473</th>\n",
       "      <td>Non-Emergency</td>\n",
       "      <td>NE</td>\n",
       "      <td>Business Check</td>\n",
       "      <td>2017-12-31 23:58:00</td>\n",
       "      <td>2017</td>\n",
       "      <td>12</td>\n",
       "      <td>31</td>\n",
       "    </tr>\n",
       "    <tr>\n",
       "      <th>2161528</th>\n",
       "      <td>Medium</td>\n",
       "      <td>ND</td>\n",
       "      <td>DISORDERLY</td>\n",
       "      <td>2017-12-31 23:59:00</td>\n",
       "      <td>2017</td>\n",
       "      <td>12</td>\n",
       "      <td>31</td>\n",
       "    </tr>\n",
       "    <tr>\n",
       "      <th>3125919</th>\n",
       "      <td>Medium</td>\n",
       "      <td>SE</td>\n",
       "      <td>911/NO  VOICE</td>\n",
       "      <td>2017-12-31 23:59:00</td>\n",
       "      <td>2017</td>\n",
       "      <td>12</td>\n",
       "      <td>31</td>\n",
       "    </tr>\n",
       "  </tbody>\n",
       "</table>\n",
       "</div>"
      ],
      "text/plain": [
       "              priority district        callType                  dT    yr  mo  \\\n",
       "140102          Medium       NE  FAMILY DISTURB 2017-12-31 23:58:00  2017  12   \n",
       "3083878            Low       CD           OTHER 2017-12-31 23:58:00  2017  12   \n",
       "873473   Non-Emergency       NE  Business Check 2017-12-31 23:58:00  2017  12   \n",
       "2161528         Medium       ND      DISORDERLY 2017-12-31 23:59:00  2017  12   \n",
       "3125919         Medium       SE   911/NO  VOICE 2017-12-31 23:59:00  2017  12   \n",
       "\n",
       "         dy  \n",
       "140102   31  \n",
       "3083878  31  \n",
       "873473   31  \n",
       "2161528  31  \n",
       "3125919  31  "
      ]
     },
     "execution_count": 15,
     "metadata": {},
     "output_type": "execute_result"
    }
   ],
   "source": [
    "##6a Filter: 01/2015 - 12/2017 (3 full years)\n",
    "df911 = df911.loc[(df911.dT >= '01/2015') & (df911.dT < '01/2018')]\n",
    "df911.tail()"
   ]
  },
  {
   "cell_type": "code",
   "execution_count": 16,
   "metadata": {},
   "outputs": [
    {
     "data": {
      "text/plain": [
       "priority    3117200\n",
       "district    3123855\n",
       "callType    3123855\n",
       "dT          3123855\n",
       "yr          3123855\n",
       "mo          3123855\n",
       "dy          3123855\n",
       "dtype: int64"
      ]
     },
     "execution_count": 16,
     "metadata": {},
     "output_type": "execute_result"
    }
   ],
   "source": [
    "##6b1 Empty/NaN/NULL \n",
    "df911.count()  #priority missing(NULL) = # 3123855 - 3117200 = 6655"
   ]
  },
  {
   "cell_type": "code",
   "execution_count": 17,
   "metadata": {},
   "outputs": [
    {
     "data": {
      "text/html": [
       "<div>\n",
       "<style scoped>\n",
       "    .dataframe tbody tr th:only-of-type {\n",
       "        vertical-align: middle;\n",
       "    }\n",
       "\n",
       "    .dataframe tbody tr th {\n",
       "        vertical-align: top;\n",
       "    }\n",
       "\n",
       "    .dataframe thead th {\n",
       "        text-align: right;\n",
       "    }\n",
       "</style>\n",
       "<table border=\"1\" class=\"dataframe\">\n",
       "  <thead>\n",
       "    <tr style=\"text-align: right;\">\n",
       "      <th></th>\n",
       "      <th>priority</th>\n",
       "      <th>district</th>\n",
       "      <th>callType</th>\n",
       "      <th>dT</th>\n",
       "      <th>yr</th>\n",
       "      <th>mo</th>\n",
       "      <th>dy</th>\n",
       "    </tr>\n",
       "  </thead>\n",
       "  <tbody>\n",
       "    <tr>\n",
       "      <th>3253354</th>\n",
       "      <td>NaN</td>\n",
       "      <td>SW</td>\n",
       "      <td>BURGLARY</td>\n",
       "      <td>2015-04-27 11:13:00</td>\n",
       "      <td>2015</td>\n",
       "      <td>4</td>\n",
       "      <td>27</td>\n",
       "    </tr>\n",
       "    <tr>\n",
       "      <th>3362416</th>\n",
       "      <td>NaN</td>\n",
       "      <td>SE</td>\n",
       "      <td>COMMON ASSAULT</td>\n",
       "      <td>2015-04-27 11:14:00</td>\n",
       "      <td>2015</td>\n",
       "      <td>4</td>\n",
       "      <td>27</td>\n",
       "    </tr>\n",
       "    <tr>\n",
       "      <th>3249583</th>\n",
       "      <td>NaN</td>\n",
       "      <td>NW</td>\n",
       "      <td>ROBBERY ARMED</td>\n",
       "      <td>2015-04-27 11:23:00</td>\n",
       "      <td>2015</td>\n",
       "      <td>4</td>\n",
       "      <td>27</td>\n",
       "    </tr>\n",
       "    <tr>\n",
       "      <th>1106645</th>\n",
       "      <td>NaN</td>\n",
       "      <td>NW</td>\n",
       "      <td>PURSE SNATCH</td>\n",
       "      <td>2015-04-27 11:24:00</td>\n",
       "      <td>2015</td>\n",
       "      <td>4</td>\n",
       "      <td>27</td>\n",
       "    </tr>\n",
       "    <tr>\n",
       "      <th>23652</th>\n",
       "      <td>NaN</td>\n",
       "      <td>NW</td>\n",
       "      <td>PURSE SNATCH</td>\n",
       "      <td>2015-04-27 11:24:00</td>\n",
       "      <td>2015</td>\n",
       "      <td>4</td>\n",
       "      <td>27</td>\n",
       "    </tr>\n",
       "  </tbody>\n",
       "</table>\n",
       "</div>"
      ],
      "text/plain": [
       "        priority district        callType                  dT    yr  mo  dy\n",
       "3253354      NaN       SW        BURGLARY 2015-04-27 11:13:00  2015   4  27\n",
       "3362416      NaN       SE  COMMON ASSAULT 2015-04-27 11:14:00  2015   4  27\n",
       "3249583      NaN       NW   ROBBERY ARMED 2015-04-27 11:23:00  2015   4  27\n",
       "1106645      NaN       NW    PURSE SNATCH 2015-04-27 11:24:00  2015   4  27\n",
       "23652        NaN       NW    PURSE SNATCH 2015-04-27 11:24:00  2015   4  27"
      ]
     },
     "execution_count": 17,
     "metadata": {},
     "output_type": "execute_result"
    }
   ],
   "source": [
    "##6b2 Empty/NaN/NULL \n",
    "dfPnull = df911[df911.priority.isnull()]  # 6655\n",
    "dfPnull.head()"
   ]
  },
  {
   "cell_type": "code",
   "execution_count": 18,
   "metadata": {},
   "outputs": [
    {
     "data": {
      "text/plain": [
       "COMMON ASSAULT     1883\n",
       "BURGLARY           1106\n",
       "DISORDERLY          708\n",
       "ARMED PERSON        338\n",
       "AGGRAV ASSAULT      296\n",
       "LARCENCY            253\n",
       "DESTRUCT PROPTY     253\n",
       "DISCHRG FIREARM     216\n",
       "FAMILY DISTURB      203\n",
       "HIT AND RUN         104\n",
       "Name: callType, dtype: int64"
      ]
     },
     "execution_count": 18,
     "metadata": {},
     "output_type": "execute_result"
    }
   ],
   "source": [
    "##6b2 Empty/NaN/NULL \n",
    "#Get unique list of callTypes with counts. Focus on Top 10\n",
    "dfPnull.callType.value_counts().head(10)"
   ]
  },
  {
   "cell_type": "code",
   "execution_count": 19,
   "metadata": {},
   "outputs": [
    {
     "data": {
      "text/html": [
       "<div>\n",
       "<style scoped>\n",
       "    .dataframe tbody tr th:only-of-type {\n",
       "        vertical-align: middle;\n",
       "    }\n",
       "\n",
       "    .dataframe tbody tr th {\n",
       "        vertical-align: top;\n",
       "    }\n",
       "\n",
       "    .dataframe thead th {\n",
       "        text-align: right;\n",
       "    }\n",
       "</style>\n",
       "<table border=\"1\" class=\"dataframe\">\n",
       "  <thead>\n",
       "    <tr style=\"text-align: right;\">\n",
       "      <th>priority</th>\n",
       "      <th>High</th>\n",
       "      <th>Low</th>\n",
       "      <th>Medium</th>\n",
       "      <th>Out of Service</th>\n",
       "    </tr>\n",
       "    <tr>\n",
       "      <th>callType</th>\n",
       "      <th></th>\n",
       "      <th></th>\n",
       "      <th></th>\n",
       "      <th></th>\n",
       "    </tr>\n",
       "  </thead>\n",
       "  <tbody>\n",
       "    <tr>\n",
       "      <th>COMMON ASSAULT</th>\n",
       "      <td>322</td>\n",
       "      <td>8</td>\n",
       "      <td>132771</td>\n",
       "      <td>33</td>\n",
       "    </tr>\n",
       "  </tbody>\n",
       "</table>\n",
       "</div>"
      ],
      "text/plain": [
       "priority        High  Low  Medium  Out of Service\n",
       "callType                                         \n",
       "COMMON ASSAULT   322    8  132771              33"
      ]
     },
     "execution_count": 19,
     "metadata": {},
     "output_type": "execute_result"
    }
   ],
   "source": [
    "##6b2 Empty/NaN/NULL #Determine what priority is likely for this callType >>> Medium\n",
    "dfPnull10 = df911[df911.callType =='COMMON ASSAULT']\n",
    "pd.crosstab (dfPnull10.callType, dfPnull10.priority)"
   ]
  },
  {
   "cell_type": "code",
   "execution_count": 20,
   "metadata": {},
   "outputs": [
    {
     "data": {
      "text/html": [
       "<div>\n",
       "<style scoped>\n",
       "    .dataframe tbody tr th:only-of-type {\n",
       "        vertical-align: middle;\n",
       "    }\n",
       "\n",
       "    .dataframe tbody tr th {\n",
       "        vertical-align: top;\n",
       "    }\n",
       "\n",
       "    .dataframe thead th {\n",
       "        text-align: right;\n",
       "    }\n",
       "</style>\n",
       "<table border=\"1\" class=\"dataframe\">\n",
       "  <thead>\n",
       "    <tr style=\"text-align: right;\">\n",
       "      <th>priority</th>\n",
       "      <th>High</th>\n",
       "      <th>Low</th>\n",
       "      <th>Medium</th>\n",
       "      <th>Out of Service</th>\n",
       "    </tr>\n",
       "    <tr>\n",
       "      <th>callType</th>\n",
       "      <th></th>\n",
       "      <th></th>\n",
       "      <th></th>\n",
       "      <th></th>\n",
       "    </tr>\n",
       "  </thead>\n",
       "  <tbody>\n",
       "    <tr>\n",
       "      <th>BURGLARY</th>\n",
       "      <td>120</td>\n",
       "      <td>2</td>\n",
       "      <td>63489</td>\n",
       "      <td>9</td>\n",
       "    </tr>\n",
       "  </tbody>\n",
       "</table>\n",
       "</div>"
      ],
      "text/plain": [
       "priority  High  Low  Medium  Out of Service\n",
       "callType                                   \n",
       "BURGLARY   120    2   63489               9"
      ]
     },
     "execution_count": 20,
     "metadata": {},
     "output_type": "execute_result"
    }
   ],
   "source": [
    "##6b2 Empty/NaN/NULL #Determine what priority is likely for this callType >>> Medium\n",
    "dfPnull10 = df911[df911.callType =='BURGLARY']\n",
    "pd.crosstab (dfPnull10.callType, dfPnull10.priority)"
   ]
  },
  {
   "cell_type": "code",
   "execution_count": 21,
   "metadata": {},
   "outputs": [
    {
     "data": {
      "text/html": [
       "<div>\n",
       "<style scoped>\n",
       "    .dataframe tbody tr th:only-of-type {\n",
       "        vertical-align: middle;\n",
       "    }\n",
       "\n",
       "    .dataframe tbody tr th {\n",
       "        vertical-align: top;\n",
       "    }\n",
       "\n",
       "    .dataframe thead th {\n",
       "        text-align: right;\n",
       "    }\n",
       "</style>\n",
       "<table border=\"1\" class=\"dataframe\">\n",
       "  <thead>\n",
       "    <tr style=\"text-align: right;\">\n",
       "      <th>priority</th>\n",
       "      <th>High</th>\n",
       "      <th>Low</th>\n",
       "      <th>Medium</th>\n",
       "      <th>Non-Emergency</th>\n",
       "      <th>Out of Service</th>\n",
       "    </tr>\n",
       "    <tr>\n",
       "      <th>callType</th>\n",
       "      <th></th>\n",
       "      <th></th>\n",
       "      <th></th>\n",
       "      <th></th>\n",
       "      <th></th>\n",
       "    </tr>\n",
       "  </thead>\n",
       "  <tbody>\n",
       "    <tr>\n",
       "      <th>DISORDERLY</th>\n",
       "      <td>258</td>\n",
       "      <td>5</td>\n",
       "      <td>269150</td>\n",
       "      <td>1</td>\n",
       "      <td>1</td>\n",
       "    </tr>\n",
       "  </tbody>\n",
       "</table>\n",
       "</div>"
      ],
      "text/plain": [
       "priority    High  Low  Medium  Non-Emergency  Out of Service\n",
       "callType                                                    \n",
       "DISORDERLY   258    5  269150              1               1"
      ]
     },
     "execution_count": 21,
     "metadata": {},
     "output_type": "execute_result"
    }
   ],
   "source": [
    "##6b2 Empty/NaN/NULL #Determine what priority is likely for this callType >>> Medium\n",
    "dfPnull10 = df911[df911.callType =='DISORDERLY']\n",
    "pd.crosstab (dfPnull10.callType, dfPnull10.priority)"
   ]
  },
  {
   "cell_type": "code",
   "execution_count": 22,
   "metadata": {},
   "outputs": [
    {
     "data": {
      "text/html": [
       "<div>\n",
       "<style scoped>\n",
       "    .dataframe tbody tr th:only-of-type {\n",
       "        vertical-align: middle;\n",
       "    }\n",
       "\n",
       "    .dataframe tbody tr th {\n",
       "        vertical-align: top;\n",
       "    }\n",
       "\n",
       "    .dataframe thead th {\n",
       "        text-align: right;\n",
       "    }\n",
       "</style>\n",
       "<table border=\"1\" class=\"dataframe\">\n",
       "  <thead>\n",
       "    <tr style=\"text-align: right;\">\n",
       "      <th>priority</th>\n",
       "      <th>High</th>\n",
       "      <th>Medium</th>\n",
       "      <th>Out of Service</th>\n",
       "    </tr>\n",
       "    <tr>\n",
       "      <th>callType</th>\n",
       "      <th></th>\n",
       "      <th></th>\n",
       "      <th></th>\n",
       "    </tr>\n",
       "  </thead>\n",
       "  <tbody>\n",
       "    <tr>\n",
       "      <th>ARMED PERSON</th>\n",
       "      <td>23986</td>\n",
       "      <td>5</td>\n",
       "      <td>1</td>\n",
       "    </tr>\n",
       "  </tbody>\n",
       "</table>\n",
       "</div>"
      ],
      "text/plain": [
       "priority       High  Medium  Out of Service\n",
       "callType                                   \n",
       "ARMED PERSON  23986       5               1"
      ]
     },
     "execution_count": 22,
     "metadata": {},
     "output_type": "execute_result"
    }
   ],
   "source": [
    "##6b2 Empty/NaN/NULL #Determine what priority is likely for this callType >>> High\n",
    "dfPnull10 = df911[df911.callType =='ARMED PERSON']\n",
    "pd.crosstab (dfPnull10.callType, dfPnull10.priority)"
   ]
  },
  {
   "cell_type": "code",
   "execution_count": 23,
   "metadata": {},
   "outputs": [
    {
     "data": {
      "text/html": [
       "<div>\n",
       "<style scoped>\n",
       "    .dataframe tbody tr th:only-of-type {\n",
       "        vertical-align: middle;\n",
       "    }\n",
       "\n",
       "    .dataframe tbody tr th {\n",
       "        vertical-align: top;\n",
       "    }\n",
       "\n",
       "    .dataframe thead th {\n",
       "        text-align: right;\n",
       "    }\n",
       "</style>\n",
       "<table border=\"1\" class=\"dataframe\">\n",
       "  <thead>\n",
       "    <tr style=\"text-align: right;\">\n",
       "      <th>priority</th>\n",
       "      <th>High</th>\n",
       "      <th>Low</th>\n",
       "      <th>Medium</th>\n",
       "      <th>Out of Service</th>\n",
       "    </tr>\n",
       "    <tr>\n",
       "      <th>callType</th>\n",
       "      <th></th>\n",
       "      <th></th>\n",
       "      <th></th>\n",
       "      <th></th>\n",
       "    </tr>\n",
       "  </thead>\n",
       "  <tbody>\n",
       "    <tr>\n",
       "      <th>AGGRAV ASSAULT</th>\n",
       "      <td>22561</td>\n",
       "      <td>2</td>\n",
       "      <td>32</td>\n",
       "      <td>5</td>\n",
       "    </tr>\n",
       "  </tbody>\n",
       "</table>\n",
       "</div>"
      ],
      "text/plain": [
       "priority         High  Low  Medium  Out of Service\n",
       "callType                                          \n",
       "AGGRAV ASSAULT  22561    2      32               5"
      ]
     },
     "execution_count": 23,
     "metadata": {},
     "output_type": "execute_result"
    }
   ],
   "source": [
    "##6b2 Empty/NaN/NULL #Determine what priority is likely for this callType >>> High\n",
    "dfPnull10 = df911[df911.callType =='AGGRAV ASSAULT']\n",
    "pd.crosstab (dfPnull10.callType, dfPnull10.priority)"
   ]
  },
  {
   "cell_type": "code",
   "execution_count": 24,
   "metadata": {},
   "outputs": [
    {
     "data": {
      "text/html": [
       "<div>\n",
       "<style scoped>\n",
       "    .dataframe tbody tr th:only-of-type {\n",
       "        vertical-align: middle;\n",
       "    }\n",
       "\n",
       "    .dataframe tbody tr th {\n",
       "        vertical-align: top;\n",
       "    }\n",
       "\n",
       "    .dataframe thead th {\n",
       "        text-align: right;\n",
       "    }\n",
       "</style>\n",
       "<table border=\"1\" class=\"dataframe\">\n",
       "  <thead>\n",
       "    <tr style=\"text-align: right;\">\n",
       "      <th>priority</th>\n",
       "      <th>High</th>\n",
       "      <th>Low</th>\n",
       "      <th>Medium</th>\n",
       "      <th>Non-Emergency</th>\n",
       "      <th>Out of Service</th>\n",
       "    </tr>\n",
       "    <tr>\n",
       "      <th>callType</th>\n",
       "      <th></th>\n",
       "      <th></th>\n",
       "      <th></th>\n",
       "      <th></th>\n",
       "      <th></th>\n",
       "    </tr>\n",
       "  </thead>\n",
       "  <tbody>\n",
       "    <tr>\n",
       "      <th>LARCENCY</th>\n",
       "      <td>20</td>\n",
       "      <td>27283</td>\n",
       "      <td>1399</td>\n",
       "      <td>3</td>\n",
       "      <td>130</td>\n",
       "    </tr>\n",
       "  </tbody>\n",
       "</table>\n",
       "</div>"
      ],
      "text/plain": [
       "priority  High    Low  Medium  Non-Emergency  Out of Service\n",
       "callType                                                    \n",
       "LARCENCY    20  27283    1399              3             130"
      ]
     },
     "execution_count": 24,
     "metadata": {},
     "output_type": "execute_result"
    }
   ],
   "source": [
    "##6b2 Empty/NaN/NULL #Determine what priority is likely for this callType >>> Low\n",
    "dfPnull10 = df911[df911.callType =='LARCENCY'] #LARCENY\n",
    "pd.crosstab (dfPnull10.callType, dfPnull10.priority)"
   ]
  },
  {
   "cell_type": "code",
   "execution_count": 25,
   "metadata": {},
   "outputs": [
    {
     "data": {
      "text/html": [
       "<div>\n",
       "<style scoped>\n",
       "    .dataframe tbody tr th:only-of-type {\n",
       "        vertical-align: middle;\n",
       "    }\n",
       "\n",
       "    .dataframe tbody tr th {\n",
       "        vertical-align: top;\n",
       "    }\n",
       "\n",
       "    .dataframe thead th {\n",
       "        text-align: right;\n",
       "    }\n",
       "</style>\n",
       "<table border=\"1\" class=\"dataframe\">\n",
       "  <thead>\n",
       "    <tr style=\"text-align: right;\">\n",
       "      <th>priority</th>\n",
       "      <th>High</th>\n",
       "      <th>Low</th>\n",
       "      <th>Medium</th>\n",
       "      <th>Out of Service</th>\n",
       "    </tr>\n",
       "    <tr>\n",
       "      <th>callType</th>\n",
       "      <th></th>\n",
       "      <th></th>\n",
       "      <th></th>\n",
       "      <th></th>\n",
       "    </tr>\n",
       "  </thead>\n",
       "  <tbody>\n",
       "    <tr>\n",
       "      <th>DESTRUCT PROPTY</th>\n",
       "      <td>12</td>\n",
       "      <td>21849</td>\n",
       "      <td>863</td>\n",
       "      <td>12</td>\n",
       "    </tr>\n",
       "  </tbody>\n",
       "</table>\n",
       "</div>"
      ],
      "text/plain": [
       "priority         High    Low  Medium  Out of Service\n",
       "callType                                            \n",
       "DESTRUCT PROPTY    12  21849     863              12"
      ]
     },
     "execution_count": 25,
     "metadata": {},
     "output_type": "execute_result"
    }
   ],
   "source": [
    "##6b2 Empty/NaN/NULL #Determine what priority is likely for this callType >>> Low\n",
    "dfPnull10 = df911[df911.callType =='DESTRUCT PROPTY']\n",
    "pd.crosstab (dfPnull10.callType, dfPnull10.priority)"
   ]
  },
  {
   "cell_type": "code",
   "execution_count": 26,
   "metadata": {},
   "outputs": [
    {
     "data": {
      "text/html": [
       "<div>\n",
       "<style scoped>\n",
       "    .dataframe tbody tr th:only-of-type {\n",
       "        vertical-align: middle;\n",
       "    }\n",
       "\n",
       "    .dataframe tbody tr th {\n",
       "        vertical-align: top;\n",
       "    }\n",
       "\n",
       "    .dataframe thead th {\n",
       "        text-align: right;\n",
       "    }\n",
       "</style>\n",
       "<table border=\"1\" class=\"dataframe\">\n",
       "  <thead>\n",
       "    <tr style=\"text-align: right;\">\n",
       "      <th>priority</th>\n",
       "      <th>High</th>\n",
       "    </tr>\n",
       "    <tr>\n",
       "      <th>callType</th>\n",
       "      <th></th>\n",
       "    </tr>\n",
       "  </thead>\n",
       "  <tbody>\n",
       "    <tr>\n",
       "      <th>DISCHRG FIREARM</th>\n",
       "      <td>8404</td>\n",
       "    </tr>\n",
       "  </tbody>\n",
       "</table>\n",
       "</div>"
      ],
      "text/plain": [
       "priority         High\n",
       "callType             \n",
       "DISCHRG FIREARM  8404"
      ]
     },
     "execution_count": 26,
     "metadata": {},
     "output_type": "execute_result"
    }
   ],
   "source": [
    "##6b2 Empty/NaN/NULL #Determine what priority is likely for this callType >>> High\n",
    "dfPnull10 = df911[df911.callType =='DISCHRG FIREARM']\n",
    "pd.crosstab (dfPnull10.callType, dfPnull10.priority)"
   ]
  },
  {
   "cell_type": "code",
   "execution_count": 27,
   "metadata": {},
   "outputs": [
    {
     "data": {
      "text/html": [
       "<div>\n",
       "<style scoped>\n",
       "    .dataframe tbody tr th:only-of-type {\n",
       "        vertical-align: middle;\n",
       "    }\n",
       "\n",
       "    .dataframe tbody tr th {\n",
       "        vertical-align: top;\n",
       "    }\n",
       "\n",
       "    .dataframe thead th {\n",
       "        text-align: right;\n",
       "    }\n",
       "</style>\n",
       "<table border=\"1\" class=\"dataframe\">\n",
       "  <thead>\n",
       "    <tr style=\"text-align: right;\">\n",
       "      <th>priority</th>\n",
       "      <th>High</th>\n",
       "      <th>Low</th>\n",
       "      <th>Medium</th>\n",
       "      <th>Non-Emergency</th>\n",
       "    </tr>\n",
       "    <tr>\n",
       "      <th>callType</th>\n",
       "      <th></th>\n",
       "      <th></th>\n",
       "      <th></th>\n",
       "      <th></th>\n",
       "    </tr>\n",
       "  </thead>\n",
       "  <tbody>\n",
       "    <tr>\n",
       "      <th>FAMILY DISTURB</th>\n",
       "      <td>55</td>\n",
       "      <td>2</td>\n",
       "      <td>76383</td>\n",
       "      <td>1</td>\n",
       "    </tr>\n",
       "  </tbody>\n",
       "</table>\n",
       "</div>"
      ],
      "text/plain": [
       "priority        High  Low  Medium  Non-Emergency\n",
       "callType                                        \n",
       "FAMILY DISTURB    55    2   76383              1"
      ]
     },
     "execution_count": 27,
     "metadata": {},
     "output_type": "execute_result"
    }
   ],
   "source": [
    "##6b2 Empty/NaN/NULL #Determine what priority is likely for this callType >>> Medium\n",
    "dfPnull10 = df911[df911.callType =='FAMILY DISTURB']\n",
    "pd.crosstab (dfPnull10.callType, dfPnull10.priority)"
   ]
  },
  {
   "cell_type": "code",
   "execution_count": 28,
   "metadata": {},
   "outputs": [
    {
     "data": {
      "text/html": [
       "<div>\n",
       "<style scoped>\n",
       "    .dataframe tbody tr th:only-of-type {\n",
       "        vertical-align: middle;\n",
       "    }\n",
       "\n",
       "    .dataframe tbody tr th {\n",
       "        vertical-align: top;\n",
       "    }\n",
       "\n",
       "    .dataframe thead th {\n",
       "        text-align: right;\n",
       "    }\n",
       "</style>\n",
       "<table border=\"1\" class=\"dataframe\">\n",
       "  <thead>\n",
       "    <tr style=\"text-align: right;\">\n",
       "      <th>priority</th>\n",
       "      <th>High</th>\n",
       "      <th>Low</th>\n",
       "      <th>Medium</th>\n",
       "      <th>Non-Emergency</th>\n",
       "      <th>Out of Service</th>\n",
       "    </tr>\n",
       "    <tr>\n",
       "      <th>callType</th>\n",
       "      <th></th>\n",
       "      <th></th>\n",
       "      <th></th>\n",
       "      <th></th>\n",
       "      <th></th>\n",
       "    </tr>\n",
       "  </thead>\n",
       "  <tbody>\n",
       "    <tr>\n",
       "      <th>HIT AND RUN</th>\n",
       "      <td>44</td>\n",
       "      <td>55422</td>\n",
       "      <td>1723</td>\n",
       "      <td>2</td>\n",
       "      <td>2</td>\n",
       "    </tr>\n",
       "  </tbody>\n",
       "</table>\n",
       "</div>"
      ],
      "text/plain": [
       "priority     High    Low  Medium  Non-Emergency  Out of Service\n",
       "callType                                                       \n",
       "HIT AND RUN    44  55422    1723              2               2"
      ]
     },
     "execution_count": 28,
     "metadata": {},
     "output_type": "execute_result"
    }
   ],
   "source": [
    "##6b2 Empty/NaN/NULL #Determine what priority is likely for this callType >>> Low\n",
    "dfPnull10 = df911[df911.callType =='HIT AND RUN']\n",
    "pd.crosstab (dfPnull10.callType, dfPnull10.priority)"
   ]
  },
  {
   "cell_type": "markdown",
   "metadata": {},
   "source": [
    "##6b2 Empty/NaN/NULL \n",
    "#Now, set those priority Null values to those observed above."
   ]
  },
  {
   "cell_type": "code",
   "execution_count": 42,
   "metadata": {},
   "outputs": [],
   "source": [
    "df911.priority[(df911.callType=='COMMON ASSAULT') & df911.priority.isnull()] = 'Medium'\n",
    "#df911[(df911.callType=='COMMON ASSAULT') & df911.priority.isnull()]['priority'] = 'Medium'"
   ]
  },
  {
   "cell_type": "code",
   "execution_count": 45,
   "metadata": {},
   "outputs": [],
   "source": [
    "#df911.priority[(df911.callType=='BURGLARY') & df911.priority.isnull()] = 'Medium'\n",
    "df911[(df911.callType=='BURGLARY') & df911.priority.isnull()]['priority'] = 'Medium'"
   ]
  },
  {
   "cell_type": "code",
   "execution_count": 48,
   "metadata": {},
   "outputs": [],
   "source": [
    "#df911.priority[(df911.callType=='DISORDERLY') & df911.priority.isnull()] = 'Medium'\n",
    "df911[(df911.callType=='DISORDERLY') & df911.priority.isnull()]['priority'] = 'Medium'"
   ]
  },
  {
   "cell_type": "code",
   "execution_count": 51,
   "metadata": {},
   "outputs": [],
   "source": [
    "#df911.priority[(df911.callType=='ARMED PERSON') & df911.priority.isnull()] = 'Medium'\n",
    "df911[(df911.callType=='ARMED PERSON') & df911.priority.isnull()]['priority'] = 'High'"
   ]
  },
  {
   "cell_type": "code",
   "execution_count": 53,
   "metadata": {},
   "outputs": [],
   "source": [
    "#df911.priority[(df911.callType=='AGGRAV ASSAULT') & df911.priority.isnull()] = 'Medium'\n",
    "df911[(df911.callType=='AGGRAV ASSAULT') & df911.priority.isnull()]['priority'] = 'High'"
   ]
  },
  {
   "cell_type": "code",
   "execution_count": 56,
   "metadata": {},
   "outputs": [],
   "source": [
    "#df911.priority[(df911.callType=='LARCENCY') & df911.priority.isnull()] = 'Medium'\n",
    "df911[(df911.callType=='LARCENCY') & df911.priority.isnull()]['priority'] = 'Low'"
   ]
  },
  {
   "cell_type": "code",
   "execution_count": 60,
   "metadata": {},
   "outputs": [],
   "source": [
    "#df911.priority[(df911.callType=='DESTRUCT PROPTY') & df911.priority.isnull()] = 'Medium'\n",
    "df911[(df911.callType=='DESTRUCT PROPTY') & df911.priority.isnull()]['priority'] = 'Low'"
   ]
  },
  {
   "cell_type": "code",
   "execution_count": 63,
   "metadata": {},
   "outputs": [],
   "source": [
    "#df911.priority[(df911.callType=='DISCHRG FIREARM') & df911.priority.isnull()] = 'Medium'\n",
    "df911[(df911.callType=='DISCHRG FIREARM') & df911.priority.isnull()]['priority'] = 'High'"
   ]
  },
  {
   "cell_type": "code",
   "execution_count": 65,
   "metadata": {},
   "outputs": [],
   "source": [
    "#df911.priority[(df911.callType=='FAMILY DISTURB') & df911.priority.isnull()] = 'Medium'\n",
    "df911[(df911.callType=='FAMILY DISTURB') & df911.priority.isnull()]['priority'] = 'Medium'"
   ]
  },
  {
   "cell_type": "code",
   "execution_count": 68,
   "metadata": {},
   "outputs": [],
   "source": [
    "#df911.priority[(df911.callType=='HIT AND RUN') & df911.priority.isnull()] = 'Medium'\n",
    "df911[(df911.callType=='HIT AND RUN') & (df911.priority.isnull())]['priority'] = 'Low'"
   ]
  },
  {
   "cell_type": "code",
   "execution_count": 69,
   "metadata": {},
   "outputs": [
    {
     "data": {
      "text/plain": [
       "priority    3122560\n",
       "district    3123855\n",
       "callType    3123855\n",
       "dT          3123855\n",
       "yr          3123855\n",
       "mo          3123855\n",
       "dy          3123855\n",
       "dtype: int64"
      ]
     },
     "execution_count": 69,
     "metadata": {},
     "output_type": "execute_result"
    }
   ],
   "source": [
    "##6b1 Empty/NaN/NULL : CHK\n",
    "df911.count()  #priority missing(NULL) = # 3123855 - 3122560 = 6655; 3123855 >> 3122560"
   ]
  },
  {
   "cell_type": "code",
   "execution_count": 70,
   "metadata": {},
   "outputs": [
    {
     "data": {
      "text/plain": [
       "priority       0\n",
       "district    1295\n",
       "callType    1295\n",
       "dT          1295\n",
       "yr          1295\n",
       "mo          1295\n",
       "dy          1295\n",
       "dtype: int64"
      ]
     },
     "execution_count": 70,
     "metadata": {},
     "output_type": "execute_result"
    }
   ],
   "source": [
    "##6b2 Empty/NaN/NULL ; 3562 >> 1295 = not part of the top 10 above\n",
    "dfPnull = df911[df911.priority.isnull()]\n",
    "dfPnull.count()\n",
    "#COMMON ASSAULT     1883 Medium\n",
    "#BURGLARY           1106 Medium\n",
    "#DISORDERLY          708 Medium\n",
    "#ARMED PERSON        338 High\n",
    "#AGGRAV ASSAULT      296 High\n",
    "#LARCENCY            253 Low\n",
    "#DESTRUCT PROPTY     253 Low\n",
    "#DISCHRG FIREARM     216 High\n",
    "#FAMILY DISTURB      203 Medium\n",
    "#HIT AND RUN         104 Low"
   ]
  },
  {
   "cell_type": "markdown",
   "metadata": {},
   "source": [
    "##6c Uppercase/Lowercase, extra spaces, wrong spelling - make all CallTypes Upper() #chk re#\n",
    "##6e Work only on top 5 district\n",
    "##6f Work only on top 4 priority \n",
    "##6g Work only on top 5 callType"
   ]
  },
  {
   "cell_type": "code",
   "execution_count": 72,
   "metadata": {},
   "outputs": [
    {
     "data": {
      "text/plain": [
       "911/NO VOICE      528056\n",
       "DISORDERLY        281397\n",
       "TRAFFIC STOP      185930\n",
       "COMMON ASSAULT    140924\n",
       "AUTO ACCIDENT     131102\n",
       "Name: callType, dtype: int64"
      ]
     },
     "execution_count": 72,
     "metadata": {},
     "output_type": "execute_result"
    }
   ],
   "source": [
    "##6c Uppercase/Lowercase, extra spaces, wrong spelling - make all CallTypes Upper() #CHK RE##\n",
    "df911.callType = df911.callType.str.upper()\n",
    "\n",
    "##6d Mistyped - extra spaces,... \n",
    "df911.callType = df911.callType.str.replace(\"LARCENCY\", \"LARCENY\") #\n",
    "df911.callType = df911.callType.str.replace(\"  \", \" \") #608034, 237, 7 >>> 3x\n",
    "df911.callType = df911.callType.str.replace(\"  \", \" \") #608034, 237, 7 >>> 3x\n",
    "df911.callType = df911.callType.str.replace(\"  \", \" \") #608034, 237, 7 >>> 3x\n",
    "\n",
    "df911.callType.value_counts().head(5) #chk"
   ]
  },
  {
   "cell_type": "markdown",
   "metadata": {},
   "source": [
    "#### Base df = df911\n",
    "##6e Work only on top 5 district: [01/2015, 01/2016, 01/2017] = highest priority call/district, !graph\n",
    "##6f Work only on top 4 priority: [01/2015 - 12/2017], crosstab\n",
    "##6g Work only on top 5 callType: [01/2015, 01/2016, 01/2017], crosstab"
   ]
  },
  {
   "cell_type": "code",
   "execution_count": 74,
   "metadata": {},
   "outputs": [
    {
     "data": {
      "text/plain": [
       "(84422, 7)"
      ]
     },
     "execution_count": 74,
     "metadata": {},
     "output_type": "execute_result"
    }
   ],
   "source": [
    "##6e Work only on top 5 district(S): [01/2015, 01/2016, 01/2017] = highest priority call/district\n",
    "df9115 = df911.loc[(df911.dT >= '01/2015') & (df911.dT < '02/2015')] # 83994;\n",
    "df9116 = df911.loc[(df911.dT >= '01/2016') & (df911.dT < '02/2016')] # 80087; \n",
    "df9117 = df911.loc[(df911.dT >= '01/2017') & (df911.dT < '02/2017')] # 84422; \n",
    "df9117.shape #chk (84422, 7), priority 3122560/3123855"
   ]
  },
  {
   "cell_type": "code",
   "execution_count": 94,
   "metadata": {},
   "outputs": [
    {
     "data": {
      "text/html": [
       "<div>\n",
       "<style scoped>\n",
       "    .dataframe tbody tr th:only-of-type {\n",
       "        vertical-align: middle;\n",
       "    }\n",
       "\n",
       "    .dataframe tbody tr th {\n",
       "        vertical-align: top;\n",
       "    }\n",
       "\n",
       "    .dataframe thead th {\n",
       "        text-align: right;\n",
       "    }\n",
       "</style>\n",
       "<table border=\"1\" class=\"dataframe\">\n",
       "  <thead>\n",
       "    <tr style=\"text-align: right;\">\n",
       "      <th></th>\n",
       "      <th>priority</th>\n",
       "      <th>district</th>\n",
       "      <th>yr</th>\n",
       "      <th>dy</th>\n",
       "    </tr>\n",
       "  </thead>\n",
       "  <tbody>\n",
       "    <tr>\n",
       "      <th>1106565</th>\n",
       "      <td>High</td>\n",
       "      <td>NW</td>\n",
       "      <td>2015</td>\n",
       "      <td>1</td>\n",
       "    </tr>\n",
       "    <tr>\n",
       "      <th>357881</th>\n",
       "      <td>High</td>\n",
       "      <td>SW</td>\n",
       "      <td>2015</td>\n",
       "      <td>1</td>\n",
       "    </tr>\n",
       "    <tr>\n",
       "      <th>359340</th>\n",
       "      <td>High</td>\n",
       "      <td>SW</td>\n",
       "      <td>2015</td>\n",
       "      <td>1</td>\n",
       "    </tr>\n",
       "    <tr>\n",
       "      <th>358628</th>\n",
       "      <td>High</td>\n",
       "      <td>NE</td>\n",
       "      <td>2015</td>\n",
       "      <td>1</td>\n",
       "    </tr>\n",
       "    <tr>\n",
       "      <th>1106008</th>\n",
       "      <td>High</td>\n",
       "      <td>SW</td>\n",
       "      <td>2015</td>\n",
       "      <td>1</td>\n",
       "    </tr>\n",
       "  </tbody>\n",
       "</table>\n",
       "</div>"
      ],
      "text/plain": [
       "        priority district    yr  dy\n",
       "1106565     High       NW  2015   1\n",
       "357881      High       SW  2015   1\n",
       "359340      High       SW  2015   1\n",
       "358628      High       NE  2015   1\n",
       "1106008     High       SW  2015   1"
      ]
     },
     "execution_count": 94,
     "metadata": {},
     "output_type": "execute_result"
    }
   ],
   "source": [
    "dfCallTypeDistrict = pd.concat([df9115, df9116, df9117]) # 248503 dfCallTypeDistrict\n",
    "dfDistrict = pd.DataFrame(dfCallTypeDistrict, columns=['priority', 'district','yr', 'dy'])\n",
    "dfDistrict = dfDistrict[dfDistrict.priority == 'High'] #ONLY need HIGH priority\n",
    "dfDistrict.head() #chk"
   ]
  },
  {
   "cell_type": "code",
   "execution_count": null,
   "metadata": {},
   "outputs": [],
   "source": [
    "##6e By observation, work on the Top 9 districts instead.\n",
    "#Check dfDistrict shape, and the top 9 of each year (2015, 2016, 2017)\n",
    "#Remove the lowest 4 districts from the dataset"
   ]
  },
  {
   "cell_type": "code",
   "execution_count": 204,
   "metadata": {},
   "outputs": [
    {
     "data": {
      "text/plain": [
       "(37790, 4)"
      ]
     },
     "execution_count": 204,
     "metadata": {},
     "output_type": "execute_result"
    }
   ],
   "source": [
    "dfDistrict.shape # (248503, 5) >>> High only 37790, for Top 9 = (37671, 4)"
   ]
  },
  {
   "cell_type": "code",
   "execution_count": 205,
   "metadata": {},
   "outputs": [
    {
     "data": {
      "text/plain": [
       "NE    1149\n",
       "ND     964\n",
       "SD     822\n",
       "NW     813\n",
       "SE     803\n",
       "SW     748\n",
       "CD     711\n",
       "ED     635\n",
       "WD     607\n",
       "Name: district, dtype: int64"
      ]
     },
     "execution_count": 205,
     "metadata": {},
     "output_type": "execute_result"
    }
   ],
   "source": [
    "dfDistrict[dfDistrict.yr==2015].district.value_counts().head(9)"
   ]
  },
  {
   "cell_type": "code",
   "execution_count": 193,
   "metadata": {},
   "outputs": [
    {
     "data": {
      "text/plain": [
       "NE    2444\n",
       "SE    2122\n",
       "SD    1595\n",
       "CD    1566\n",
       "ND    1509\n",
       "ED    1403\n",
       "WD    1396\n",
       "SW    1334\n",
       "NW    1333\n",
       "Name: district, dtype: int64"
      ]
     },
     "execution_count": 193,
     "metadata": {},
     "output_type": "execute_result"
    }
   ],
   "source": [
    "dfDistrict[dfDistrict.yr==2016].district.value_counts().head(9)"
   ]
  },
  {
   "cell_type": "code",
   "execution_count": 194,
   "metadata": {},
   "outputs": [
    {
     "data": {
      "text/plain": [
       "SE    2247\n",
       "NE    2221\n",
       "WD    1870\n",
       "SD    1866\n",
       "SW    1727\n",
       "CD    1583\n",
       "ND    1475\n",
       "ED    1411\n",
       "NW    1317\n",
       "Name: district, dtype: int64"
      ]
     },
     "execution_count": 194,
     "metadata": {},
     "output_type": "execute_result"
    }
   ],
   "source": [
    "dfDistrict[dfDistrict.yr==2017].district.value_counts().head(9)"
   ]
  },
  {
   "cell_type": "code",
   "execution_count": 208,
   "metadata": {},
   "outputs": [
    {
     "data": {
      "text/plain": [
       "NE    5814\n",
       "SE    5172\n",
       "SD    4283\n",
       "ND    3948\n",
       "WD    3873\n",
       "CD    3860\n",
       "SW    3809\n",
       "NW    3463\n",
       "ED    3449\n",
       "Name: district, dtype: int64"
      ]
     },
     "execution_count": 208,
     "metadata": {},
     "output_type": "execute_result"
    }
   ],
   "source": [
    "dfDistrict = dfDistrict[~dfDistrict.district.isin(['CW','INFO','SS','TRU'])]\n",
    "dfDistrict.district.value_counts()"
   ]
  },
  {
   "cell_type": "code",
   "execution_count": 211,
   "metadata": {
    "scrolled": true
   },
   "outputs": [
    {
     "data": {
      "text/html": [
       "<div>\n",
       "<style scoped>\n",
       "    .dataframe tbody tr th:only-of-type {\n",
       "        vertical-align: middle;\n",
       "    }\n",
       "\n",
       "    .dataframe tbody tr th {\n",
       "        vertical-align: top;\n",
       "    }\n",
       "\n",
       "    .dataframe thead th {\n",
       "        text-align: right;\n",
       "    }\n",
       "</style>\n",
       "<table border=\"1\" class=\"dataframe\">\n",
       "  <thead>\n",
       "    <tr style=\"text-align: right;\">\n",
       "      <th>District</th>\n",
       "      <th>CD</th>\n",
       "      <th>ED</th>\n",
       "      <th>ND</th>\n",
       "      <th>NE</th>\n",
       "      <th>NW</th>\n",
       "      <th>SD</th>\n",
       "      <th>SE</th>\n",
       "      <th>SW</th>\n",
       "      <th>WD</th>\n",
       "      <th>&lt;TOTAL&gt;</th>\n",
       "    </tr>\n",
       "    <tr>\n",
       "      <th>Jan/Year</th>\n",
       "      <th></th>\n",
       "      <th></th>\n",
       "      <th></th>\n",
       "      <th></th>\n",
       "      <th></th>\n",
       "      <th></th>\n",
       "      <th></th>\n",
       "      <th></th>\n",
       "      <th></th>\n",
       "      <th></th>\n",
       "    </tr>\n",
       "  </thead>\n",
       "  <tbody>\n",
       "    <tr>\n",
       "      <th>2015</th>\n",
       "      <td>711</td>\n",
       "      <td>635</td>\n",
       "      <td>964</td>\n",
       "      <td>1149</td>\n",
       "      <td>813</td>\n",
       "      <td>822</td>\n",
       "      <td>803</td>\n",
       "      <td>748</td>\n",
       "      <td>607</td>\n",
       "      <td>7252</td>\n",
       "    </tr>\n",
       "    <tr>\n",
       "      <th>2016</th>\n",
       "      <td>1566</td>\n",
       "      <td>1403</td>\n",
       "      <td>1509</td>\n",
       "      <td>2444</td>\n",
       "      <td>1333</td>\n",
       "      <td>1595</td>\n",
       "      <td>2122</td>\n",
       "      <td>1334</td>\n",
       "      <td>1396</td>\n",
       "      <td>14702</td>\n",
       "    </tr>\n",
       "    <tr>\n",
       "      <th>2017</th>\n",
       "      <td>1583</td>\n",
       "      <td>1411</td>\n",
       "      <td>1475</td>\n",
       "      <td>2221</td>\n",
       "      <td>1317</td>\n",
       "      <td>1866</td>\n",
       "      <td>2247</td>\n",
       "      <td>1727</td>\n",
       "      <td>1870</td>\n",
       "      <td>15717</td>\n",
       "    </tr>\n",
       "    <tr>\n",
       "      <th>&lt;TOTAL&gt;</th>\n",
       "      <td>3860</td>\n",
       "      <td>3449</td>\n",
       "      <td>3948</td>\n",
       "      <td>5814</td>\n",
       "      <td>3463</td>\n",
       "      <td>4283</td>\n",
       "      <td>5172</td>\n",
       "      <td>3809</td>\n",
       "      <td>3873</td>\n",
       "      <td>37671</td>\n",
       "    </tr>\n",
       "  </tbody>\n",
       "</table>\n",
       "</div>"
      ],
      "text/plain": [
       "District    CD    ED    ND    NE    NW    SD    SE    SW    WD  <TOTAL>\n",
       "Jan/Year                                                               \n",
       "2015       711   635   964  1149   813   822   803   748   607     7252\n",
       "2016      1566  1403  1509  2444  1333  1595  2122  1334  1396    14702\n",
       "2017      1583  1411  1475  2221  1317  1866  2247  1727  1870    15717\n",
       "<TOTAL>   3860  3449  3948  5814  3463  4283  5172  3809  3873    37671"
      ]
     },
     "execution_count": 211,
     "metadata": {},
     "output_type": "execute_result"
    }
   ],
   "source": [
    "# Most <High> Priority Calls/District for 3 Years on the Month of January\n",
    "dfCT = pd.crosstab(dfDistrict.yr, dfDistrict.district, rownames=['Jan/Year'], \n",
    "        colnames=['District'], margins=True, margins_name='<TOTAL>')\n",
    "dfCT"
   ]
  },
  {
   "cell_type": "code",
   "execution_count": 214,
   "metadata": {
    "scrolled": true
   },
   "outputs": [
    {
     "data": {
      "text/html": [
       "<div>\n",
       "<style scoped>\n",
       "    .dataframe tbody tr th:only-of-type {\n",
       "        vertical-align: middle;\n",
       "    }\n",
       "\n",
       "    .dataframe tbody tr th {\n",
       "        vertical-align: top;\n",
       "    }\n",
       "\n",
       "    .dataframe thead tr th {\n",
       "        text-align: left;\n",
       "    }\n",
       "\n",
       "    .dataframe thead tr:last-of-type th {\n",
       "        text-align: right;\n",
       "    }\n",
       "</style>\n",
       "<table border=\"1\" class=\"dataframe\">\n",
       "  <thead>\n",
       "    <tr>\n",
       "      <th></th>\n",
       "      <th colspan=\"9\" halign=\"left\">priority</th>\n",
       "    </tr>\n",
       "    <tr>\n",
       "      <th>district</th>\n",
       "      <th>CD</th>\n",
       "      <th>ED</th>\n",
       "      <th>ND</th>\n",
       "      <th>NE</th>\n",
       "      <th>NW</th>\n",
       "      <th>SD</th>\n",
       "      <th>SE</th>\n",
       "      <th>SW</th>\n",
       "      <th>WD</th>\n",
       "    </tr>\n",
       "    <tr>\n",
       "      <th>yr</th>\n",
       "      <th></th>\n",
       "      <th></th>\n",
       "      <th></th>\n",
       "      <th></th>\n",
       "      <th></th>\n",
       "      <th></th>\n",
       "      <th></th>\n",
       "      <th></th>\n",
       "      <th></th>\n",
       "    </tr>\n",
       "  </thead>\n",
       "  <tbody>\n",
       "    <tr>\n",
       "      <th>2015</th>\n",
       "      <td>711</td>\n",
       "      <td>635</td>\n",
       "      <td>964</td>\n",
       "      <td>1149</td>\n",
       "      <td>813</td>\n",
       "      <td>822</td>\n",
       "      <td>803</td>\n",
       "      <td>748</td>\n",
       "      <td>607</td>\n",
       "    </tr>\n",
       "    <tr>\n",
       "      <th>2016</th>\n",
       "      <td>1566</td>\n",
       "      <td>1403</td>\n",
       "      <td>1509</td>\n",
       "      <td>2444</td>\n",
       "      <td>1333</td>\n",
       "      <td>1595</td>\n",
       "      <td>2122</td>\n",
       "      <td>1334</td>\n",
       "      <td>1396</td>\n",
       "    </tr>\n",
       "    <tr>\n",
       "      <th>2017</th>\n",
       "      <td>1583</td>\n",
       "      <td>1411</td>\n",
       "      <td>1475</td>\n",
       "      <td>2221</td>\n",
       "      <td>1317</td>\n",
       "      <td>1866</td>\n",
       "      <td>2247</td>\n",
       "      <td>1727</td>\n",
       "      <td>1870</td>\n",
       "    </tr>\n",
       "  </tbody>\n",
       "</table>\n",
       "</div>"
      ],
      "text/plain": [
       "         priority                                                \n",
       "district       CD    ED    ND    NE    NW    SD    SE    SW    WD\n",
       "yr                                                               \n",
       "2015          711   635   964  1149   813   822   803   748   607\n",
       "2016         1566  1403  1509  2444  1333  1595  2122  1334  1396\n",
       "2017         1583  1411  1475  2221  1317  1866  2247  1727  1870"
      ]
     },
     "execution_count": 214,
     "metadata": {},
     "output_type": "execute_result"
    }
   ],
   "source": [
    "# Most <High> Priority Calls/District for 3 Years on the Month of January\n",
    "dfDistrict.pivot_table(index=['yr'], columns=['district'], values=['priority']\n",
    "                       , aggfunc='count', fill_value=0)"
   ]
  },
  {
   "cell_type": "code",
   "execution_count": 216,
   "metadata": {},
   "outputs": [
    {
     "data": {
      "text/html": [
       "<div>\n",
       "<style scoped>\n",
       "    .dataframe tbody tr th:only-of-type {\n",
       "        vertical-align: middle;\n",
       "    }\n",
       "\n",
       "    .dataframe tbody tr th {\n",
       "        vertical-align: top;\n",
       "    }\n",
       "\n",
       "    .dataframe thead tr th {\n",
       "        text-align: left;\n",
       "    }\n",
       "\n",
       "    .dataframe thead tr:last-of-type th {\n",
       "        text-align: right;\n",
       "    }\n",
       "</style>\n",
       "<table border=\"1\" class=\"dataframe\">\n",
       "  <thead>\n",
       "    <tr>\n",
       "      <th></th>\n",
       "      <th></th>\n",
       "      <th colspan=\"9\" halign=\"left\">priority</th>\n",
       "    </tr>\n",
       "    <tr>\n",
       "      <th></th>\n",
       "      <th>district</th>\n",
       "      <th>CD</th>\n",
       "      <th>ED</th>\n",
       "      <th>ND</th>\n",
       "      <th>NE</th>\n",
       "      <th>NW</th>\n",
       "      <th>SD</th>\n",
       "      <th>SE</th>\n",
       "      <th>SW</th>\n",
       "      <th>WD</th>\n",
       "    </tr>\n",
       "    <tr>\n",
       "      <th>yr</th>\n",
       "      <th>dy</th>\n",
       "      <th></th>\n",
       "      <th></th>\n",
       "      <th></th>\n",
       "      <th></th>\n",
       "      <th></th>\n",
       "      <th></th>\n",
       "      <th></th>\n",
       "      <th></th>\n",
       "      <th></th>\n",
       "    </tr>\n",
       "  </thead>\n",
       "  <tbody>\n",
       "    <tr>\n",
       "      <th rowspan=\"9\" valign=\"top\">2015</th>\n",
       "      <th>1</th>\n",
       "      <td>21</td>\n",
       "      <td>26</td>\n",
       "      <td>34</td>\n",
       "      <td>32</td>\n",
       "      <td>34</td>\n",
       "      <td>34</td>\n",
       "      <td>37</td>\n",
       "      <td>32</td>\n",
       "      <td>17</td>\n",
       "    </tr>\n",
       "    <tr>\n",
       "      <th>2</th>\n",
       "      <td>29</td>\n",
       "      <td>13</td>\n",
       "      <td>35</td>\n",
       "      <td>43</td>\n",
       "      <td>26</td>\n",
       "      <td>30</td>\n",
       "      <td>18</td>\n",
       "      <td>28</td>\n",
       "      <td>25</td>\n",
       "    </tr>\n",
       "    <tr>\n",
       "      <th>3</th>\n",
       "      <td>22</td>\n",
       "      <td>23</td>\n",
       "      <td>30</td>\n",
       "      <td>44</td>\n",
       "      <td>21</td>\n",
       "      <td>36</td>\n",
       "      <td>22</td>\n",
       "      <td>22</td>\n",
       "      <td>9</td>\n",
       "    </tr>\n",
       "    <tr>\n",
       "      <th>4</th>\n",
       "      <td>23</td>\n",
       "      <td>15</td>\n",
       "      <td>47</td>\n",
       "      <td>31</td>\n",
       "      <td>22</td>\n",
       "      <td>36</td>\n",
       "      <td>22</td>\n",
       "      <td>24</td>\n",
       "      <td>17</td>\n",
       "    </tr>\n",
       "    <tr>\n",
       "      <th>5</th>\n",
       "      <td>22</td>\n",
       "      <td>21</td>\n",
       "      <td>28</td>\n",
       "      <td>48</td>\n",
       "      <td>31</td>\n",
       "      <td>34</td>\n",
       "      <td>41</td>\n",
       "      <td>29</td>\n",
       "      <td>16</td>\n",
       "    </tr>\n",
       "    <tr>\n",
       "      <th>6</th>\n",
       "      <td>22</td>\n",
       "      <td>17</td>\n",
       "      <td>18</td>\n",
       "      <td>32</td>\n",
       "      <td>26</td>\n",
       "      <td>18</td>\n",
       "      <td>17</td>\n",
       "      <td>16</td>\n",
       "      <td>23</td>\n",
       "    </tr>\n",
       "    <tr>\n",
       "      <th>7</th>\n",
       "      <td>23</td>\n",
       "      <td>16</td>\n",
       "      <td>40</td>\n",
       "      <td>49</td>\n",
       "      <td>31</td>\n",
       "      <td>45</td>\n",
       "      <td>34</td>\n",
       "      <td>30</td>\n",
       "      <td>22</td>\n",
       "    </tr>\n",
       "    <tr>\n",
       "      <th>8</th>\n",
       "      <td>26</td>\n",
       "      <td>26</td>\n",
       "      <td>29</td>\n",
       "      <td>45</td>\n",
       "      <td>23</td>\n",
       "      <td>32</td>\n",
       "      <td>27</td>\n",
       "      <td>20</td>\n",
       "      <td>18</td>\n",
       "    </tr>\n",
       "    <tr>\n",
       "      <th>9</th>\n",
       "      <td>25</td>\n",
       "      <td>25</td>\n",
       "      <td>46</td>\n",
       "      <td>46</td>\n",
       "      <td>31</td>\n",
       "      <td>36</td>\n",
       "      <td>25</td>\n",
       "      <td>35</td>\n",
       "      <td>17</td>\n",
       "    </tr>\n",
       "  </tbody>\n",
       "</table>\n",
       "</div>"
      ],
      "text/plain": [
       "         priority                                \n",
       "district       CD  ED  ND  NE  NW  SD  SE  SW  WD\n",
       "yr   dy                                          \n",
       "2015 1         21  26  34  32  34  34  37  32  17\n",
       "     2         29  13  35  43  26  30  18  28  25\n",
       "     3         22  23  30  44  21  36  22  22   9\n",
       "     4         23  15  47  31  22  36  22  24  17\n",
       "     5         22  21  28  48  31  34  41  29  16\n",
       "     6         22  17  18  32  26  18  17  16  23\n",
       "     7         23  16  40  49  31  45  34  30  22\n",
       "     8         26  26  29  45  23  32  27  20  18\n",
       "     9         25  25  46  46  31  36  25  35  17"
      ]
     },
     "execution_count": 216,
     "metadata": {},
     "output_type": "execute_result"
    }
   ],
   "source": [
    "# Daily Most <High> Priority Calls/District for 3 Years on the Month of January\n",
    "df = dfDistrict.pivot_table(index=['yr', 'dy'], columns=['district'], values=['priority']\n",
    "                       , aggfunc='count', fill_value=0)\n",
    "df.head(9)"
   ]
  },
  {
   "cell_type": "markdown",
   "metadata": {},
   "source": [
    "##6f Work only on top 4 priority for 3 years: [01/2015 - 12/2017], \n",
    "  #crosstab; priority district callType dT yr mo dy"
   ]
  },
  {
   "cell_type": "code",
   "execution_count": 217,
   "metadata": {},
   "outputs": [
    {
     "data": {
      "text/plain": [
       "(3123855, 7)"
      ]
     },
     "execution_count": 217,
     "metadata": {},
     "output_type": "execute_result"
    }
   ],
   "source": [
    "##6f Work only on top 4 priority: (3123855, 7)\n",
    "dfPriority = df911.copy()\n",
    "dfPriority.shape"
   ]
  },
  {
   "cell_type": "code",
   "execution_count": 218,
   "metadata": {},
   "outputs": [
    {
     "data": {
      "text/plain": [
       "Medium            1561149\n",
       "Low                705902\n",
       "High               492913\n",
       "Non-Emergency      360596\n",
       "Emergency            1120\n",
       "Out of Service        880\n",
       "Name: priority, dtype: int64"
      ]
     },
     "execution_count": 218,
     "metadata": {},
     "output_type": "execute_result"
    }
   ],
   "source": [
    "dfPriority.priority.value_counts()\n",
    "#Medium            1561149\n",
    "#Low                705902\n",
    "#High               492913\n",
    "#Non-Emergency      360596\n",
    "#Emergency            1120\n",
    "#Out of Service        880"
   ]
  },
  {
   "cell_type": "code",
   "execution_count": 219,
   "metadata": {},
   "outputs": [
    {
     "data": {
      "text/plain": [
       "Medium           1561149\n",
       "Low               705902\n",
       "High              492913\n",
       "Non-Emergency     360596\n",
       "Emergency           1120\n",
       "Name: priority, dtype: int64"
      ]
     },
     "execution_count": 219,
     "metadata": {},
     "output_type": "execute_result"
    }
   ],
   "source": [
    "##6f Need to make a decision here: \n",
    "###1) Drop all priority='Out of Service', \n",
    "###2) Move priority 'Emergency' to the 'High' bin. \n",
    "\n",
    "dfPriority = dfPriority[dfPriority.priority !='Out of Service']  # r=880 \n",
    "dfPriority.priority.value_counts()"
   ]
  },
  {
   "cell_type": "code",
   "execution_count": 220,
   "metadata": {},
   "outputs": [
    {
     "data": {
      "text/plain": [
       "Medium           1561149\n",
       "Low               705902\n",
       "High              494033\n",
       "Non-Emergency     360596\n",
       "Name: priority, dtype: int64"
      ]
     },
     "execution_count": 220,
     "metadata": {},
     "output_type": "execute_result"
    }
   ],
   "source": [
    "##6f ###2) Move priority 'Emergency' to the 'High' bin. \n",
    "dfPriority.priority.replace('Emergency', 'High', inplace=True)   # r=492913 + 1120 = 494033 High\n",
    "dfPriority.priority.value_counts()"
   ]
  },
  {
   "cell_type": "code",
   "execution_count": 263,
   "metadata": {},
   "outputs": [],
   "source": [
    "##6f Work only on top 4 priority: [01/2015 - 12/2017], crosstab\n",
    "ct = pd.crosstab(dfPriority.yr, dfPriority.priority)"
   ]
  },
  {
   "cell_type": "code",
   "execution_count": 222,
   "metadata": {
    "scrolled": true
   },
   "outputs": [
    {
     "data": {
      "text/plain": [
       "[Text(0,0.5,'No. of Calls'),\n",
       " Text(0.5,0,'Year'),\n",
       " Text(0.5,1,'No. of Police Calls/Year Grouped by Priority')]"
      ]
     },
     "execution_count": 222,
     "metadata": {},
     "output_type": "execute_result"
    },
    {
     "data": {
      "image/png": "[encoded data removed]",
      "text/plain": [
       "<matplotlib.figure.Figure at 0x21e9406ccf8>"
      ]
     },
     "metadata": {},
     "output_type": "display_data"
    }
   ],
   "source": [
    "tt = 'No. of Police Calls/Year Grouped by Priority'\n",
    "#ct = pd.crosstab(dfPriority.yr, dfPriority.priority)\n",
    "stacked = ct.stack().reset_index().rename(columns={0:'val'})\n",
    "bp = sns.barplot(x=stacked.yr, y=stacked.val, hue=stacked.priority)\n",
    "bp.set(xlabel='Year', ylabel='No. of Calls', title=tt)"
   ]
  },
  {
   "cell_type": "code",
   "execution_count": 223,
   "metadata": {},
   "outputs": [],
   "source": [
    "#Note to Milad/Me: Maybe do a yearly instead of monthly percentage (normalize) on priority.\n",
    "#Note to Milad/Me: Maybe do a yearly instead of monthly percentage (normalize) on priority.\n",
    "#Note to Milad/Me: Maybe do a yearly instead of monthly percentage (normalize) on priority.\n",
    "#Note to Milad/Me: Maybe do a yearly instead of monthly percentage (normalize) on priority.\n",
    "\n",
    "#df911.pivot_table(index=['yr', 'mo', 'dy'], columns= 'priority',aggfunc='size', fill_value=0)\n",
    "ct = pd.crosstab(index=[dfPriority.yr, dfPriority.mo], columns=dfPriority.priority,\n",
    "            rownames=['Year', 'Month'], colnames=['Priority'])"
   ]
  },
  {
   "cell_type": "code",
   "execution_count": 224,
   "metadata": {
    "scrolled": true
   },
   "outputs": [
    {
     "data": {
      "image/png": "[encoded data removed]",
      "text/plain": [
       "<matplotlib.figure.Figure at 0x21e9411fe10>"
      ]
     },
     "metadata": {},
     "output_type": "display_data"
    }
   ],
   "source": [
    "#\n",
    "tt = 'No. of Police Calls/Year Grouped by Priority'\n",
    "plt.figure(figsize=(10,12)) # %b/%Y; {:0<4.0f}; {:+.2f}\n",
    "\n",
    "ax = sns.heatmap(pd.crosstab([dfPriority.yr, dfPriority.mo], [dfPriority.priority], normalize='index')\n",
    "        , yticklabels=3, cmap=\"YlGnBu\", annot=True, cbar=True, linewidths=.5 )#, fmt=\"{:+.2f}\")"
   ]
  },
  {
   "cell_type": "markdown",
   "metadata": {},
   "source": [
    "#df911.shape = wrangled #(3123855, 7)\n",
    "dfCallType = pd.DataFrame(df911, columns=['priority', 'callType','yr', 'dy'])\n",
    "dfCallType.head() #chk\n",
    "\n",
    "##6g Work only on top 5 callType\n",
    "###At this point, df911 has been wrangled already on the callType values which affected \n",
    "#the priority totals. So, from 6e,..."
   ]
  },
  {
   "cell_type": "code",
   "execution_count": 248,
   "metadata": {},
   "outputs": [
    {
     "data": {
      "text/html": [
       "<div>\n",
       "<style scoped>\n",
       "    .dataframe tbody tr th:only-of-type {\n",
       "        vertical-align: middle;\n",
       "    }\n",
       "\n",
       "    .dataframe tbody tr th {\n",
       "        vertical-align: top;\n",
       "    }\n",
       "\n",
       "    .dataframe thead th {\n",
       "        text-align: right;\n",
       "    }\n",
       "</style>\n",
       "<table border=\"1\" class=\"dataframe\">\n",
       "  <thead>\n",
       "    <tr style=\"text-align: right;\">\n",
       "      <th></th>\n",
       "      <th>callType</th>\n",
       "      <th>priority</th>\n",
       "      <th>district</th>\n",
       "      <th>yr</th>\n",
       "      <th>dy</th>\n",
       "    </tr>\n",
       "  </thead>\n",
       "  <tbody>\n",
       "    <tr>\n",
       "      <th>1106565</th>\n",
       "      <td>DISCHRG FIREARM</td>\n",
       "      <td>High</td>\n",
       "      <td>NW</td>\n",
       "      <td>2015</td>\n",
       "      <td>1</td>\n",
       "    </tr>\n",
       "    <tr>\n",
       "      <th>357881</th>\n",
       "      <td>SHOOTING</td>\n",
       "      <td>High</td>\n",
       "      <td>SW</td>\n",
       "      <td>2015</td>\n",
       "      <td>1</td>\n",
       "    </tr>\n",
       "    <tr>\n",
       "      <th>359329</th>\n",
       "      <td>OTHER</td>\n",
       "      <td>Low</td>\n",
       "      <td>SW</td>\n",
       "      <td>2015</td>\n",
       "      <td>1</td>\n",
       "    </tr>\n",
       "    <tr>\n",
       "      <th>359125</th>\n",
       "      <td>SUBJECT STOP</td>\n",
       "      <td>Low</td>\n",
       "      <td>SW</td>\n",
       "      <td>2015</td>\n",
       "      <td>1</td>\n",
       "    </tr>\n",
       "    <tr>\n",
       "      <th>359340</th>\n",
       "      <td>DISCHRG FIREARM</td>\n",
       "      <td>High</td>\n",
       "      <td>SW</td>\n",
       "      <td>2015</td>\n",
       "      <td>1</td>\n",
       "    </tr>\n",
       "  </tbody>\n",
       "</table>\n",
       "</div>"
      ],
      "text/plain": [
       "                callType priority district    yr  dy\n",
       "1106565  DISCHRG FIREARM     High       NW  2015   1\n",
       "357881          SHOOTING     High       SW  2015   1\n",
       "359329             OTHER      Low       SW  2015   1\n",
       "359125      SUBJECT STOP      Low       SW  2015   1\n",
       "359340   DISCHRG FIREARM     High       SW  2015   1"
      ]
     },
     "execution_count": 248,
     "metadata": {},
     "output_type": "execute_result"
    }
   ],
   "source": [
    "#SUB: #94: From cleaned up df911\n",
    "##from 6e Work only on top 5 calType(S): [01/2015, 01/2016, 01/2017] =  \n",
    "dfCallType = pd.concat([df9115, df9116, df9117]) # 248503 dfCallTypeDistrict\n",
    "dfCallType = pd.DataFrame(dfCallType, columns=['callType', 'priority', 'district','yr', 'dy'])\n",
    "dfCallType.head() #chk"
   ]
  },
  {
   "cell_type": "code",
   "execution_count": 249,
   "metadata": {},
   "outputs": [
    {
     "data": {
      "text/plain": [
       "911/NO VOICE      42105\n",
       "TRAFFIC STOP      22486\n",
       "DISORDERLY        19108\n",
       "COMMON ASSAULT    10380\n",
       "AUTO ACCIDENT      9855\n",
       "Name: callType, dtype: int64"
      ]
     },
     "execution_count": 249,
     "metadata": {},
     "output_type": "execute_result"
    }
   ],
   "source": [
    "dfCallType.callType.value_counts().head(5)  #shape=(248503, 5) #top 5\n",
    "# 911/NO VOICE=42105 TRAFFIC STOP=22486 DISORDERLY=19108 COMMON ASSAULT=10380 AUTO ACCIDENT=9855"
   ]
  },
  {
   "cell_type": "code",
   "execution_count": 250,
   "metadata": {},
   "outputs": [],
   "source": [
    "ctList = ['911/NO VOICE','TRAFFIC STOP','DISORDERLY','COMMON ASSAULT','AUTO ACCIDENT']\n",
    "dfCallType = dfCallType[dfCallType.callType.isin(ctList)] #shape=(103934, 5)"
   ]
  },
  {
   "cell_type": "code",
   "execution_count": 251,
   "metadata": {},
   "outputs": [
    {
     "data": {
      "text/plain": [
       "911/NO VOICE      42105\n",
       "TRAFFIC STOP      22486\n",
       "DISORDERLY        19108\n",
       "COMMON ASSAULT    10380\n",
       "AUTO ACCIDENT      9855\n",
       "Name: callType, dtype: int64"
      ]
     },
     "execution_count": 251,
     "metadata": {},
     "output_type": "execute_result"
    }
   ],
   "source": [
    "dfCallType.callType.value_counts()  #chk, just the top 5"
   ]
  },
  {
   "cell_type": "code",
   "execution_count": 265,
   "metadata": {},
   "outputs": [
    {
     "data": {
      "text/html": [
       "<div>\n",
       "<style scoped>\n",
       "    .dataframe tbody tr th:only-of-type {\n",
       "        vertical-align: middle;\n",
       "    }\n",
       "\n",
       "    .dataframe tbody tr th {\n",
       "        vertical-align: top;\n",
       "    }\n",
       "\n",
       "    .dataframe thead th {\n",
       "        text-align: right;\n",
       "    }\n",
       "</style>\n",
       "<table border=\"1\" class=\"dataframe\">\n",
       "  <thead>\n",
       "    <tr style=\"text-align: right;\">\n",
       "      <th>CallType</th>\n",
       "      <th>911/NO VOICE</th>\n",
       "      <th>AUTO ACCIDENT</th>\n",
       "      <th>COMMON ASSAULT</th>\n",
       "      <th>DISORDERLY</th>\n",
       "      <th>TRAFFIC STOP</th>\n",
       "    </tr>\n",
       "    <tr>\n",
       "      <th>Jan/Year</th>\n",
       "      <th></th>\n",
       "      <th></th>\n",
       "      <th></th>\n",
       "      <th></th>\n",
       "      <th></th>\n",
       "    </tr>\n",
       "  </thead>\n",
       "  <tbody>\n",
       "    <tr>\n",
       "      <th>2015</th>\n",
       "      <td>15935</td>\n",
       "      <td>3003</td>\n",
       "      <td>3156</td>\n",
       "      <td>5879</td>\n",
       "      <td>9449</td>\n",
       "    </tr>\n",
       "    <tr>\n",
       "      <th>2016</th>\n",
       "      <td>13449</td>\n",
       "      <td>3317</td>\n",
       "      <td>3431</td>\n",
       "      <td>6506</td>\n",
       "      <td>6557</td>\n",
       "    </tr>\n",
       "    <tr>\n",
       "      <th>2017</th>\n",
       "      <td>12721</td>\n",
       "      <td>3535</td>\n",
       "      <td>3793</td>\n",
       "      <td>6723</td>\n",
       "      <td>6480</td>\n",
       "    </tr>\n",
       "  </tbody>\n",
       "</table>\n",
       "</div>"
      ],
      "text/plain": [
       "CallType  911/NO VOICE  AUTO ACCIDENT  COMMON ASSAULT  DISORDERLY  \\\n",
       "Jan/Year                                                            \n",
       "2015             15935           3003            3156        5879   \n",
       "2016             13449           3317            3431        6506   \n",
       "2017             12721           3535            3793        6723   \n",
       "\n",
       "CallType  TRAFFIC STOP  \n",
       "Jan/Year                \n",
       "2015              9449  \n",
       "2016              6557  \n",
       "2017              6480  "
      ]
     },
     "execution_count": 265,
     "metadata": {},
     "output_type": "execute_result"
    }
   ],
   "source": [
    "ct = pd.crosstab(dfCallType.yr, dfCallType.callType, rownames=['Jan/Year'], colnames=['CallType'])\n",
    "ct  #chk. Top 5 callType:   <<<END>>> #priority district callType dT yr mo dy."
   ]
  },
  {
   "cell_type": "code",
   "execution_count": 271,
   "metadata": {},
   "outputs": [
    {
     "data": {
      "text/plain": [
       "[Text(0,0.5,'No. of Calls'),\n",
       " Text(0.5,0,'Year'),\n",
       " Text(0.5,1,'No. of Police Calls/Year (Month of January) Grouped by CallType')]"
      ]
     },
     "execution_count": 271,
     "metadata": {},
     "output_type": "execute_result"
    },
    {
     "data": {
      "image/png": "[encoded data removed]",
      "text/plain": [
       "<matplotlib.figure.Figure at 0x21e8f54fcc0>"
      ]
     },
     "metadata": {},
     "output_type": "display_data"
    }
   ],
   "source": [
    "tt = 'No. of Police Calls/Year (Month of January) Grouped by CallType'\n",
    "stacked = ct.stack().reset_index().rename(columns={0:'val'})\n",
    "bp = sns.barplot(x=stacked['Jan/Year'], y=stacked.val, hue=stacked.CallType)\n",
    "bp.set(xlabel='Year', ylabel='No. of Calls', title=tt)"
   ]
  },
  {
   "cell_type": "markdown",
   "metadata": {},
   "source": [
    "#6a   ) dfCallTypeDistrict (Jan/2015, Jan/2016, Jan/2017; daily totals). Now, pull/filter only months of Jan for 3 yrs(2015, 2016, 2017)='01/2015','01/2016','01/2017'. Then, concatenate them."
   ]
  },
  {
   "cell_type": "markdown",
   "metadata": {},
   "source": []
  },
  {
   "cell_type": "code",
   "execution_count": null,
   "metadata": {},
   "outputs": [],
   "source": [
    "df911.priority.value_counts().head() #Medium=1879930 Low=858596 High=641406 Non-Emergency=469209 Out of Service=954"
   ]
  },
  {
   "cell_type": "markdown",
   "metadata": {},
   "source": [
    "#6b) dfCallType (full years of 2015, 2016, 2017; monthly totals)"
   ]
  },
  {
   "cell_type": "code",
   "execution_count": null,
   "metadata": {},
   "outputs": [],
   "source": [
    "dfPriority = df911.loc[(df911.dT >= '01/2015') & (df911.dT < '01/2018')]\n",
    "dfPriority.tail() #chk  # 84422; location 82645"
   ]
  },
  {
   "cell_type": "code",
   "execution_count": null,
   "metadata": {},
   "outputs": [],
   "source": [
    "df911.callType = df911.callType.str.upper()\n",
    "df911.callType .value_counts()\n",
    "#911/NO  VOICE    572935 DISORDERLY          351504 TRAFFIC STOP        242516 \n",
    "#COMMON ASSAULT      172651 AUTO ACCIDENT       162557 NARCOTICSOUTSIDE    143029 OTHER               123083\n",
    "#SILENT ALARM        121837 FAMILY DISTURB       99484 "
   ]
  },
  {
   "cell_type": "code",
   "execution_count": null,
   "metadata": {},
   "outputs": [],
   "source": [
    "ctCounts = df911.callType.value_counts()"
   ]
  },
  {
   "cell_type": "code",
   "execution_count": null,
   "metadata": {},
   "outputs": [],
   "source": [
    "df911.callType.unique() #['DISCHRG FIREARM', 'SHOOTING', 'OTHER', ..., 'CLD', 'ALLEDGED', 'PRTECT ORDER']\n",
    "df911.callType.nunique() #9203"
   ]
  },
  {
   "cell_type": "code",
   "execution_count": null,
   "metadata": {},
   "outputs": [],
   "source": [
    "df911.groupby(['yr', 'mo', 'dy', 'priority']).size().unstack(fill_value=0)\n",
    "df911.pivot_table(index=['yr', 'mo', 'dy'], columns= 'priority',aggfunc='size', fill_value=0)\n",
    "df911.crosstab([df911.yr, df911.mo, df911.dy], df911.priority)"
   ]
  },
  {
   "cell_type": "markdown",
   "metadata": {},
   "source": [
    "## EDA Section:\n",
    "\n",
    "#1)=#6 What district has the most <High> Priority calls for (Jan/2015, Jan/2016, Jan/2017) (no graph)?\n",
    "#2) What is the most Priority Calls (High, Medium, Low, Non-Emergency) for 3 years (2015-2017)?\n",
    "#3)=#7 What is the Top 5 CallTypes for (Jan/2015, Jan/2016, Jan/2017)?\n",
    "#4) What is the percentage of emergencies and non-emergencies are from a dataset?\n",
    "#5)\tWhat is the percentage are High Priority, Medium, and Low are from the emergency calls?\n",
    "#6)\tWhat is the district with the greatest number of High Priority calls?\n",
    "#7)\tWhat is the type of emergency that's mostly incurred?\n",
    "#8)\tIs there a correlation of the call priority to a district?\n",
    "#9)\tIs there a correlation of the call type (description column) to a district?\n",
    "#10) Is there a correlation of the call type (description column) to a call priority?"
   ]
  },
  {
   "cell_type": "markdown",
   "metadata": {},
   "source": [
    "#1)\tWhat district has the most High Priority calls for (Jan/2015, Jan/2016, Jan/2017) (no graph)?\n",
    "NOTE: Python code/graph already covered above in #6e. See also #6 below."
   ]
  },
  {
   "cell_type": "markdown",
   "metadata": {},
   "source": [
    "#2) What is the most Priority Calls (High, Medium, Low, Non-Emergency) for 3 years (2015-2017)?\n",
    "NOTE: See Python code/graph in #5 below.\n",
    "    \n",
    "The Medium priority calls TOP the number of emergency calls at 56.6%, 57.0%, and 56.0% for years 2015, 2016, and 2017."
   ]
  },
  {
   "cell_type": "markdown",
   "metadata": {},
   "source": [
    "#3) What is the Top 5 CallTypes for (Jan/2015, Jan/2016, Jan/2017)?\n",
    "NOTE: Python code/graph already covered above in #6g.  See also #7 below."
   ]
  },
  {
   "cell_type": "markdown",
   "metadata": {},
   "source": [
    "4)\tWhat is the percentage of emergencies and non-emergencies are from a dataset?\n",
    "#The dataset provides a priority of \"Non-emergency\", whereas there is no priority of \"Emergency\". \n",
    "Hence, I assume that all calls that are Non-emergencies could be categorized as \"Emergency\". In a mathematical formula, Emergency = High + Medium + Low.\n",
    "NOTE: Python code/graph will follow below."
   ]
  },
  {
   "cell_type": "markdown",
   "metadata": {},
   "source": [
    "##6f Work only on top 4 priority:\n",
    "\n",
    "#Based on #6f Barplot and Heatmap, Medium priority consistently topped the number of annual and monthly calls.\n",
    "###   WILL NEED ANOTHER CHART here, based from the formula above."
   ]
  },
  {
   "cell_type": "code",
   "execution_count": 272,
   "metadata": {},
   "outputs": [
    {
     "data": {
      "text/plain": [
       "[Text(0,0.5,'No. of Calls'),\n",
       " Text(0.5,0,'Year'),\n",
       " Text(0.5,1,'No. of Police Calls/Year Grouped by Priority')]"
      ]
     },
     "execution_count": 272,
     "metadata": {},
     "output_type": "execute_result"
    },
    {
     "data": {
      "image/png": "[encoded data removed]",
      "text/plain": [
       "<matplotlib.figure.Figure at 0x21e8f8574a8>"
      ]
     },
     "metadata": {},
     "output_type": "display_data"
    }
   ],
   "source": [
    "#Refresh calculation and graph:\n",
    "tt = 'No. of Police Calls/Year Grouped by Priority'\n",
    "ct = pd.crosstab(dfPriority.yr, dfPriority.priority)\n",
    "stacked = ct.stack().reset_index().rename(columns={0:'val'})\n",
    "bp = sns.barplot(x=stacked.yr, y=stacked.val, hue=stacked.priority)\n",
    "bp.set(xlabel='Year', ylabel='No. of Calls', title=tt)"
   ]
  },
  {
   "cell_type": "code",
   "execution_count": 273,
   "metadata": {},
   "outputs": [
    {
     "data": {
      "text/html": [
       "<div>\n",
       "<style scoped>\n",
       "    .dataframe tbody tr th:only-of-type {\n",
       "        vertical-align: middle;\n",
       "    }\n",
       "\n",
       "    .dataframe tbody tr th {\n",
       "        vertical-align: top;\n",
       "    }\n",
       "\n",
       "    .dataframe thead th {\n",
       "        text-align: right;\n",
       "    }\n",
       "</style>\n",
       "<table border=\"1\" class=\"dataframe\">\n",
       "  <thead>\n",
       "    <tr style=\"text-align: right;\">\n",
       "      <th>priority</th>\n",
       "      <th>High</th>\n",
       "      <th>Low</th>\n",
       "      <th>Medium</th>\n",
       "      <th>Non-Emergency</th>\n",
       "    </tr>\n",
       "    <tr>\n",
       "      <th>yr</th>\n",
       "      <th></th>\n",
       "      <th></th>\n",
       "      <th></th>\n",
       "      <th></th>\n",
       "    </tr>\n",
       "  </thead>\n",
       "  <tbody>\n",
       "    <tr>\n",
       "      <th>2015</th>\n",
       "      <td>153299</td>\n",
       "      <td>259217</td>\n",
       "      <td>538099</td>\n",
       "      <td>119389</td>\n",
       "    </tr>\n",
       "    <tr>\n",
       "      <th>2016</th>\n",
       "      <td>167525</td>\n",
       "      <td>231383</td>\n",
       "      <td>528347</td>\n",
       "      <td>121159</td>\n",
       "    </tr>\n",
       "    <tr>\n",
       "      <th>2017</th>\n",
       "      <td>173209</td>\n",
       "      <td>215302</td>\n",
       "      <td>494703</td>\n",
       "      <td>120048</td>\n",
       "    </tr>\n",
       "  </tbody>\n",
       "</table>\n",
       "</div>"
      ],
      "text/plain": [
       "priority    High     Low  Medium  Non-Emergency\n",
       "yr                                             \n",
       "2015      153299  259217  538099         119389\n",
       "2016      167525  231383  528347         121159\n",
       "2017      173209  215302  494703         120048"
      ]
     },
     "execution_count": 273,
     "metadata": {},
     "output_type": "execute_result"
    }
   ],
   "source": [
    "ct # annual totals for High, Low, Medium, and Non-Emergency"
   ]
  },
  {
   "cell_type": "code",
   "execution_count": 274,
   "metadata": {},
   "outputs": [
    {
     "data": {
      "text/html": [
       "<div>\n",
       "<style scoped>\n",
       "    .dataframe tbody tr th:only-of-type {\n",
       "        vertical-align: middle;\n",
       "    }\n",
       "\n",
       "    .dataframe tbody tr th {\n",
       "        vertical-align: top;\n",
       "    }\n",
       "\n",
       "    .dataframe thead th {\n",
       "        text-align: right;\n",
       "    }\n",
       "</style>\n",
       "<table border=\"1\" class=\"dataframe\">\n",
       "  <thead>\n",
       "    <tr style=\"text-align: right;\">\n",
       "      <th>priority</th>\n",
       "      <th>High</th>\n",
       "      <th>Low</th>\n",
       "      <th>Medium</th>\n",
       "      <th>Non-Emergency</th>\n",
       "      <th>Emergency</th>\n",
       "      <th>Totals</th>\n",
       "      <th>EmerPct</th>\n",
       "      <th>NonEPct</th>\n",
       "    </tr>\n",
       "    <tr>\n",
       "      <th>yr</th>\n",
       "      <th></th>\n",
       "      <th></th>\n",
       "      <th></th>\n",
       "      <th></th>\n",
       "      <th></th>\n",
       "      <th></th>\n",
       "      <th></th>\n",
       "      <th></th>\n",
       "    </tr>\n",
       "  </thead>\n",
       "  <tbody>\n",
       "    <tr>\n",
       "      <th>2015</th>\n",
       "      <td>153299</td>\n",
       "      <td>259217</td>\n",
       "      <td>538099</td>\n",
       "      <td>119389</td>\n",
       "      <td>950615</td>\n",
       "      <td>1070004</td>\n",
       "      <td>88.842191</td>\n",
       "      <td>11.157809</td>\n",
       "    </tr>\n",
       "    <tr>\n",
       "      <th>2016</th>\n",
       "      <td>167525</td>\n",
       "      <td>231383</td>\n",
       "      <td>528347</td>\n",
       "      <td>121159</td>\n",
       "      <td>927255</td>\n",
       "      <td>1048414</td>\n",
       "      <td>88.443592</td>\n",
       "      <td>11.556408</td>\n",
       "    </tr>\n",
       "    <tr>\n",
       "      <th>2017</th>\n",
       "      <td>173209</td>\n",
       "      <td>215302</td>\n",
       "      <td>494703</td>\n",
       "      <td>120048</td>\n",
       "      <td>883214</td>\n",
       "      <td>1003262</td>\n",
       "      <td>88.034232</td>\n",
       "      <td>11.965768</td>\n",
       "    </tr>\n",
       "  </tbody>\n",
       "</table>\n",
       "</div>"
      ],
      "text/plain": [
       "priority    High     Low  Medium  Non-Emergency  Emergency   Totals  \\\n",
       "yr                                                                    \n",
       "2015      153299  259217  538099         119389     950615  1070004   \n",
       "2016      167525  231383  528347         121159     927255  1048414   \n",
       "2017      173209  215302  494703         120048     883214  1003262   \n",
       "\n",
       "priority    EmerPct    NonEPct  \n",
       "yr                              \n",
       "2015      88.842191  11.157809  \n",
       "2016      88.443592  11.556408  \n",
       "2017      88.034232  11.965768  "
      ]
     },
     "execution_count": 274,
     "metadata": {},
     "output_type": "execute_result"
    }
   ],
   "source": [
    "#Calc Total Emergency, Totals(Emergency + Non-Emergency), Non-Emergency Percent and Emergency Percent. \n",
    "ct['Emergency'] = ct.High + ct.Low + ct.Medium\n",
    "ct['Totals'] = ct.Emergency + ct['Non-Emergency']\n",
    "ct['EmerPct'] = ct.Emergency / ct.Totals * 100\n",
    "ct['NonEPct'] = ct['Non-Emergency'] / ct.Totals * 100\n",
    "ct"
   ]
  },
  {
   "cell_type": "markdown",
   "metadata": {},
   "source": [
    "5)\tWhat is the percentage of High Priority, Medium, and Low are from the emergency calls?\n",
    "#Based from the assumption above, \n",
    "#a) HighPct   = High / Emergency * 100\n",
    "#b) MediumPct = Medium / Emergency * 100\n",
    "#c) LowPct    = Low / Emergency * 100 \n",
    "NOTE: Python code/graph will follow below.\n",
    "#Formula from #4 question above:\n",
    "    Emergency = High + Medium + Low."
   ]
  },
  {
   "cell_type": "code",
   "execution_count": 277,
   "metadata": {},
   "outputs": [
    {
     "data": {
      "text/html": [
       "<div>\n",
       "<style scoped>\n",
       "    .dataframe tbody tr th:only-of-type {\n",
       "        vertical-align: middle;\n",
       "    }\n",
       "\n",
       "    .dataframe tbody tr th {\n",
       "        vertical-align: top;\n",
       "    }\n",
       "\n",
       "    .dataframe thead th {\n",
       "        text-align: right;\n",
       "    }\n",
       "</style>\n",
       "<table border=\"1\" class=\"dataframe\">\n",
       "  <thead>\n",
       "    <tr style=\"text-align: right;\">\n",
       "      <th>priority</th>\n",
       "      <th>High</th>\n",
       "      <th>Low</th>\n",
       "      <th>Medium</th>\n",
       "      <th>Non-Emergency</th>\n",
       "      <th>Emergency</th>\n",
       "      <th>Totals</th>\n",
       "      <th>EmerPct</th>\n",
       "      <th>NonEPct</th>\n",
       "      <th>HighPct</th>\n",
       "      <th>MediumPct</th>\n",
       "      <th>LowPct</th>\n",
       "    </tr>\n",
       "    <tr>\n",
       "      <th>yr</th>\n",
       "      <th></th>\n",
       "      <th></th>\n",
       "      <th></th>\n",
       "      <th></th>\n",
       "      <th></th>\n",
       "      <th></th>\n",
       "      <th></th>\n",
       "      <th></th>\n",
       "      <th></th>\n",
       "      <th></th>\n",
       "      <th></th>\n",
       "    </tr>\n",
       "  </thead>\n",
       "  <tbody>\n",
       "    <tr>\n",
       "      <th>2015</th>\n",
       "      <td>153299</td>\n",
       "      <td>259217</td>\n",
       "      <td>538099</td>\n",
       "      <td>119389</td>\n",
       "      <td>950615</td>\n",
       "      <td>1070004</td>\n",
       "      <td>88.842191</td>\n",
       "      <td>11.157809</td>\n",
       "      <td>16.126297</td>\n",
       "      <td>56.605355</td>\n",
       "      <td>27.268347</td>\n",
       "    </tr>\n",
       "    <tr>\n",
       "      <th>2016</th>\n",
       "      <td>167525</td>\n",
       "      <td>231383</td>\n",
       "      <td>528347</td>\n",
       "      <td>121159</td>\n",
       "      <td>927255</td>\n",
       "      <td>1048414</td>\n",
       "      <td>88.443592</td>\n",
       "      <td>11.556408</td>\n",
       "      <td>18.066767</td>\n",
       "      <td>56.979687</td>\n",
       "      <td>24.953546</td>\n",
       "    </tr>\n",
       "    <tr>\n",
       "      <th>2017</th>\n",
       "      <td>173209</td>\n",
       "      <td>215302</td>\n",
       "      <td>494703</td>\n",
       "      <td>120048</td>\n",
       "      <td>883214</td>\n",
       "      <td>1003262</td>\n",
       "      <td>88.034232</td>\n",
       "      <td>11.965768</td>\n",
       "      <td>19.611215</td>\n",
       "      <td>56.011680</td>\n",
       "      <td>24.377105</td>\n",
       "    </tr>\n",
       "  </tbody>\n",
       "</table>\n",
       "</div>"
      ],
      "text/plain": [
       "priority    High     Low  Medium  Non-Emergency  Emergency   Totals  \\\n",
       "yr                                                                    \n",
       "2015      153299  259217  538099         119389     950615  1070004   \n",
       "2016      167525  231383  528347         121159     927255  1048414   \n",
       "2017      173209  215302  494703         120048     883214  1003262   \n",
       "\n",
       "priority    EmerPct    NonEPct    HighPct  MediumPct     LowPct  \n",
       "yr                                                               \n",
       "2015      88.842191  11.157809  16.126297  56.605355  27.268347  \n",
       "2016      88.443592  11.556408  18.066767  56.979687  24.953546  \n",
       "2017      88.034232  11.965768  19.611215  56.011680  24.377105  "
      ]
     },
     "execution_count": 277,
     "metadata": {},
     "output_type": "execute_result"
    }
   ],
   "source": [
    "#Now, based from the dataset (ct) above, calculate the percentages of High, Medium, and Low priority calls.\n",
    "ct['HighPct'] = ct.High / ct.Emergency * 100\n",
    "ct['MediumPct'] = ct.Medium / ct.Emergency * 100\n",
    "ct['LowPct'] = ct.Low / ct.Emergency * 100\n",
    "dfPriorityPct = ct.copy()\n",
    "dfPriorityPct"
   ]
  },
  {
   "cell_type": "markdown",
   "metadata": {},
   "source": [
    "Looking at the chart above, we can observe that:\n",
    "\n",
    "(1) The High priority calls has the LOWEST number of emergency calls at 16.1%, 18.0%, and 19.6% for years 2015, 2016, and 2017.\n",
    "\n",
    "(2) The Medium priority calls TOP the number of emergency calls at 56.6%, 57.0%, and 56.0% for years 2015, 2016, and 2017.\n",
    "\n",
    "(3) The Low priority calls has the SECOND most number of emergency calls at 27.3%, 25.0%, and 24.4% for years 2015, 2016, and 2017."
   ]
  },
  {
   "cell_type": "markdown",
   "metadata": {},
   "source": [
    "6)\tWhat is the district with the greatest number of High Priority calls?"
   ]
  },
  {
   "cell_type": "code",
   "execution_count": null,
   "metadata": {},
   "outputs": [],
   "source": [
    "#From the District crosstab chart above in #6e:\n",
    "##NE (1149) has the highest High priority calls for year 2015. \n",
    "##NE (2444) has the highest High priority calls for year 2016. \n",
    "##SE (2247) has the highest High priority calls for year 2017. \n",
    "##NE (5814) has the highest High priority calls for all 3 years. "
   ]
  },
  {
   "cell_type": "markdown",
   "metadata": {},
   "source": [
    "7)\tWhat is the type of emergency (reason for the call OR callType) that's mostly incurred?"
   ]
  },
  {
   "cell_type": "code",
   "execution_count": null,
   "metadata": {},
   "outputs": [],
   "source": [
    "#From the callType crosstab chart above in #6g:\n",
    "#911/No Voice is the #1 emergency incurred for 3 consecutive years (2015-2017). This cannot be exactly\n",
    "###determined what's the reason for the call, except that the caller is not able to talk for whatever reason.\n",
    "#Traffic Stop is the #2 for 2015, a tie for #2 with Disorderly in 2016, and comes #3 in 2017.\n",
    "#Disorderly is the #3 for 2015, a tie for #2 with Disorderly in 2016, and comes #2 in 2017."
   ]
  },
  {
   "cell_type": "markdown",
   "metadata": {},
   "source": [
    "8)\tIs there a correlation of the call priority to a district?"
   ]
  },
  {
   "cell_type": "code",
   "execution_count": null,
   "metadata": {},
   "outputs": [],
   "source": [
    "NOTE to Milad:  Can this question be answered in Capstone Project #2?\n",
    "NOTE to Milad:  Can this question be answered in Capstone Project #2?\n",
    "NOTE to Milad:  Can this question be answered in Capstone Project #2?"
   ]
  },
  {
   "cell_type": "markdown",
   "metadata": {},
   "source": [
    "9)\tIs there a correlation of the call type (description column) to a district?"
   ]
  },
  {
   "cell_type": "code",
   "execution_count": null,
   "metadata": {},
   "outputs": [],
   "source": [
    "NOTE to Milad:  Can this question be answered in Capstone Project #2?\n",
    "NOTE to Milad:  Can this question be answered in Capstone Project #2?\n",
    "NOTE to Milad:  Can this question be answered in Capstone Project #2?"
   ]
  },
  {
   "cell_type": "markdown",
   "metadata": {},
   "source": [
    "10)\tIs there a correlation of the call type (description column) to a call priority?"
   ]
  },
  {
   "cell_type": "code",
   "execution_count": null,
   "metadata": {},
   "outputs": [],
   "source": [
    "NOTE to Milad:  Can this question be answered in Capstone Project #2?\n",
    "NOTE to Milad:  Can this question be answered in Capstone Project #2?\n",
    "NOTE to Milad:  Can this question be answered in Capstone Project #2?"
   ]
  },
  {
   "cell_type": "markdown",
   "metadata": {},
   "source": [
    "# END> _ END> _ END> _ END> _ END> _ END>  \n",
    "\n",
    "# STOP! STOP! STOP! STOP! STOP! STOP! STOP!\n",
    "\n",
    "# Codes below were initially done in 1st draft...\n"
   ]
  },
  {
   "cell_type": "code",
   "execution_count": null,
   "metadata": {},
   "outputs": [],
   "source": [
    "sns.countplot(data=df911A, x='yr', hue='district') #, palette='viridis')\n",
    "plt.title('Police Calls of All Districts on the Month of January for 3 Years (2015-2017).')\n",
    "plt.xlabel('Year (Month of January)')\n",
    "plt.ylabel('Number of Calls')"
   ]
  },
  {
   "cell_type": "markdown",
   "metadata": {},
   "source": [
    "#x Police Calls of the Top 5 Districts on the Month of January for 3 Years (2015-2017)."
   ]
  },
  {
   "cell_type": "code",
   "execution_count": null,
   "metadata": {},
   "outputs": [],
   "source": [
    "dfD5  =  df911A.query('district in (\"NE\", \"SW\", \"SE\", \"SD\", \"CD\")')\n",
    "sns.countplot(data=dfD5, x='yr', hue='district')\n",
    "plt.title('Police Calls of the Top 5 Districts on the Month of January for 3 Years (2015-2017).')\n",
    "plt.xlabel('Year (Month of January)')\n",
    "plt.ylabel('Number of Calls')"
   ]
  },
  {
   "cell_type": "code",
   "execution_count": null,
   "metadata": {},
   "outputs": [],
   "source": [
    "sns.countplot(data=df911A, x='callType', palette='viridis')\n",
    "\n",
    "# It appears that the callType (description) values need to be cleaned."
   ]
  },
  {
   "cell_type": "code",
   "execution_count": null,
   "metadata": {},
   "outputs": [],
   "source": [
    "sns.countplot(x='yr', data=df911A, hue='priority') "
   ]
  },
  {
   "cell_type": "code",
   "execution_count": null,
   "metadata": {},
   "outputs": [],
   "source": [
    "df911A['DayOfWeek']= df911A['dT'].apply(lambda tid: tid.dayofweek)\n",
    "df911A.head()"
   ]
  },
  {
   "cell_type": "code",
   "execution_count": null,
   "metadata": {},
   "outputs": [],
   "source": [
    "dmap = {0:'Mon',1:'Tue',2:'Wed',3:'Thu',4:'Fri',5:'Sat',6:'Sun'}\n",
    "df911A['DayOfWeek'] = df911A['DayOfWeek'].map(dmap)\n",
    "df911A.head()"
   ]
  },
  {
   "cell_type": "markdown",
   "metadata": {},
   "source": [
    "#2015 Police Calls Prioritized on the Day Of Week. "
   ]
  },
  {
   "cell_type": "code",
   "execution_count": null,
   "metadata": {},
   "outputs": [],
   "source": [
    "sns.countplot(x=\"DayOfWeek\", data=df911A.loc[df911A.yr == 2015], hue='priority')\n",
    "plt.legend(bbox_to_anchor=(1.05, 1), loc=2, borderaxespad=0)"
   ]
  },
  {
   "cell_type": "markdown",
   "metadata": {},
   "source": [
    "#2016 Police Calls Prioritized on the Day Of Week. "
   ]
  },
  {
   "cell_type": "code",
   "execution_count": null,
   "metadata": {},
   "outputs": [],
   "source": [
    "sns.countplot(x=\"DayOfWeek\", data=df911A.loc[df911A.yr == 2016], hue='priority')\n",
    "plt.legend(bbox_to_anchor=(1.05, 1), loc=2, borderaxespad=0)"
   ]
  },
  {
   "cell_type": "markdown",
   "metadata": {},
   "source": [
    "#2017 Police Calls Prioritized on the Day Of Week. "
   ]
  },
  {
   "cell_type": "code",
   "execution_count": null,
   "metadata": {},
   "outputs": [],
   "source": [
    "sns.countplot(x=\"DayOfWeek\", data=df911A.loc[df911A.yr == 2017], hue='priority')\n",
    "plt.legend(bbox_to_anchor=(1.05, 1), loc=2, borderaxespad=0)"
   ]
  },
  {
   "cell_type": "code",
   "execution_count": null,
   "metadata": {},
   "outputs": [],
   "source": [
    "sns.countplot(x=\"DayOfWeek\", data=df911A, hue='priority')\n",
    "plt.tight_layout()\n",
    "plt.legend(bbox_to_anchor=(1.05, 1), loc=2, borderaxespad=0)"
   ]
  },
  {
   "cell_type": "markdown",
   "metadata": {},
   "source": [
    "#2015 Police Calls Prioritized (with High, Medium, Low) on the Day Of the Month (January)."
   ]
  },
  {
   "cell_type": "code",
   "execution_count": null,
   "metadata": {},
   "outputs": [],
   "source": [
    "dfP3  =  df911A.query('priority in (\"High\", \"Medium\", \"Low\")')\n",
    "sns.countplot(x='dy', data=dfP3.loc[dfP3.yr == 2015], hue='priority')\n",
    "plt.title('#Jan/2015 Police Calls Prioritized (High, Medium, Low) on the Day Of the Month.')\n",
    "plt.xlabel('Day of the Month (Jan)')\n",
    "plt.ylabel('Number of Calls')\n",
    "plt.legend(bbox_to_anchor=(1.05, 1), loc=2, borderaxespad=0)\n",
    "#plt.tight_layout()\n",
    "#dx.head() #chk"
   ]
  },
  {
   "cell_type": "markdown",
   "metadata": {},
   "source": [
    "#2016 Police Calls Prioritized (with High, Medium, Low) on the Day Of the Month (January)."
   ]
  },
  {
   "cell_type": "code",
   "execution_count": null,
   "metadata": {},
   "outputs": [],
   "source": [
    "sns.countplot(x='dy', data=dfP3.loc[dfP3.yr == 2016], hue='priority')\n",
    "plt.title('#Jan/2016 Police Calls Prioritized (High, Medium, Low) on the Day Of the Month.')\n",
    "plt.xlabel('Day of the Month (Jan)')\n",
    "plt.ylabel('Number of Calls')\n",
    "plt.legend(bbox_to_anchor=(1.05, 1), loc=2, borderaxespad=0)"
   ]
  },
  {
   "cell_type": "code",
   "execution_count": null,
   "metadata": {},
   "outputs": [],
   "source": [
    "#2017 Police Calls Prioritized (with High, Medium, Low) on the Day Of the Month (January).\n",
    "911/NO  VOICE     26168\n",
    "Traffic Stop      22486\n",
    "911/No Voice      15935\n",
    "DISORDERLY        13229\n",
    "COMMON ASSAULT     7224"
   ]
  },
  {
   "cell_type": "code",
   "execution_count": null,
   "metadata": {},
   "outputs": [],
   "source": [
    "dfT5  =  df911A.query('callType in (\"911/NO  VOICE\", \"Traffic Stop\", \"911/No Voice\", \"DISORDERLY\", \"COMMON ASSAULT\")')\n",
    "dfT5.head()"
   ]
  },
  {
   "cell_type": "code",
   "execution_count": null,
   "metadata": {},
   "outputs": [],
   "source": [
    "dfT5[dfT5.yr==2017].groupby('dy').count()['callType'].plot()\n",
    "\n",
    "#dfT5[dfT5['callType']=='Traffic Stop'].groupby('dy').count()['callType'].plot()\n",
    "#sns.countplot(x='dy', data=dfP3.loc[dfP3.yr == 2017], hue='priority')\n",
    "plt.title('#Jan/2017 Police Calls Category (Traffic, Disorderly, Assault, etc) on each Day Of the Month.')\n",
    "plt.xlabel('Day of the Month (Jan)')\n",
    "plt.ylabel('Number of Calls')\n",
    "#plt.legend(bbox_to_anchor=(1.05, 1), loc=2, borderaxespad=0)"
   ]
  },
  {
   "cell_type": "code",
   "execution_count": null,
   "metadata": {},
   "outputs": [],
   "source": [
    "dfD5  =  df911A.query('district in (\"NE\", \"SW\", \"SE\", \"SD\", \"CD\")')\n",
    "sns.countplot(data=dfD5, x='yr', hue='district')\n",
    "#plt.title('Police Calls of the Top 5 Districts on the Month of January for 3 Years (2015-2017).')\n",
    "#plt.xlabel('Year (Month of January)')\n",
    "#plt.ylabel('Number of Calls')"
   ]
  },
  {
   "cell_type": "code",
   "execution_count": null,
   "metadata": {},
   "outputs": [],
   "source": [
    "sns.countplot(x='dy', data=dfD5.loc[dfP3.yr == 2017], hue='callType')\n",
    "plt.title('#Jan/2017 Police Calls Prioritized (High, Medium, Low) on the Day Of the Month.')\n",
    "plt.xlabel('Day of the Month (Jan)')\n",
    "plt.ylabel('Number of Calls')\n",
    "plt.legend(bbox_to_anchor=(1.05, 1), loc=2, borderaxespad=0)"
   ]
  },
  {
   "cell_type": "markdown",
   "metadata": {},
   "source": [
    "# STOP! \n",
    "# WORK AREA BELOW:\n",
    "#If you need to know how many rows there are with \"one or more NaNs\":\n",
    "df.isnull().T.any().T.sum()\n",
    "\n",
    "#Or if you need to pull out these rows and examine them:\n",
    "nan_rows = df[df.isnull().T.any().T]\n",
    "\n",
    "df.isnull().any().any() #.any() will tell you if any of the above are True\n",
    "\n",
    "#to get the total number of NaN values in the DataFrame:\n",
    "df.isnull().sum().sum()\n",
    "\n",
    "# Which rows have NaNs in a specific column:\n",
    "nan_rows = df[df['column'].isnull()]\n",
    "\n",
    "#To find out which rows do not have NaNs in a specific column: \n",
    "non_nan_rows = df[df['column'].notnull()]\n",
    "\n",
    "#To find out which rows have NaNs:\n",
    "nan_rows = df[df.isnull().any(1)] #any(axis=1)\n",
    "\n",
    "T(all(isnan(T{:,2:4}),2),:)"
   ]
  },
  {
   "cell_type": "code",
   "execution_count": null,
   "metadata": {},
   "outputs": [],
   "source": [
    "# Set the index, Sort\n",
    "#DataFrame.sort_values(by, axis=0, ascending=True, inplace=False, kind='quicksort', na_position='last')\n",
    "df911A.set_index(['yr', 'dy'], drop=True)\n",
    "df911A.sort_values(['yr', 'dy'], inplace=True)\n",
    "df911A.head(6)"
   ]
  },
  {
   "cell_type": "code",
   "execution_count": null,
   "metadata": {},
   "outputs": [],
   "source": [
    "#df = df911A.groupby(['yr', 'dy', 'district']).count()                # syntax OK\n",
    "#df = df911A.groupby(['yr', 'dy', 'district'])['callDateTime'].sum() # syntax !OK\n",
    "#df = df911A.groupby(['yr', 'dy', 'district'])['callDateTime'].count() # syntax OK\n",
    "#df = df911A.crosstab([df.yr, df.dy], df.priority) #'])['callDateTime'].count() # syntax OK\n",
    "#import timeit #%%timeit # do it 100x; -n 100\n",
    "\n",
    "df = df911A.groupby(['yr', 'dy', 'priority'])['callDateTime'].count() # syntax OK\n",
    "df.columns = ['yr', 'dy', 'priority', 'count']\n",
    "df"
   ]
  },
  {
   "cell_type": "code",
   "execution_count": null,
   "metadata": {},
   "outputs": [],
   "source": [
    "df.columns = ['yr', 'dy', 'priority', 'counts']\n",
    "df.columns"
   ]
  },
  {
   "cell_type": "code",
   "execution_count": null,
   "metadata": {},
   "outputs": [],
   "source": [
    "#plt.plot(df9115.yr, df9115.priority, color='red')\n",
    "#plt.plot(df9116.yr, df9116.priority, color='green')\n",
    "#plt.plot(df9117.yr, df9117.priority, color='blue')\n",
    "#plt.axis((1990,2010,0,50))\n",
    "#plt.plot(df911A.yr, df911A.priority, color='red')\n",
    "#plt.plot([df911A.yr for yr in df911A.yr if df911A.yr == 2015], df911A.priority, color='red')\n",
    "#plt.plot(df911A.loc[df911A.yr == 2015], df911A.priority, color='red')\n",
    "#plt.plot(df911A.yr, df911A.priority, color='red')\n",
    "#plt.plot(df911A.yr, df911A.priority, color='red')\n",
    "\n",
    "plt.plot(df9115.yr, df9115.priority, color='red', label='Priority')\n",
    "plt.plot(df9116.yr, df9116.priority, color='green', label='Priority')\n",
    "plt.plot(df9117.yr, df9117.priority, color='blue', label='Priority')\n",
    "plt.title('911 Police Calls - Priority by Year')\n",
    "plt.ylabel('Priority')\n",
    "plt.xlabel('Year')\n",
    "plt.legend(loc='lower right')\n",
    "plt.show()\n",
    "# Save the figure as 'axis_limits.png'\n",
    "#plt.savefig('axis_limits.png')\n",
    "\n",
    "tt = 'No. of Police Calls/Year (Month of January) Grouped by Priority'\n",
    "plt.figure(figsize=(10,12)) \n",
    "ax = sns.heatmap(pd.crosstab([dfPriority.yr, dfPriority.mo], [dfPriority.priority], normalize=True),\n",
    "    yticklabels=3, cmap=\"YlGnBu\", annot=True, cbar=True, linewidths=.5)#, fmt=\"%b/%Y\") \n",
    "\n",
    "#import timeit ##, fill_value=0) #, aggfunc = 'size'\n",
    "#%%timeit df = df911A.pivot_table(['yr', 'dy'], columns = 'priority') #, fill_value=0) #, aggfunc = 'size'\n",
    "df = df911A.pivot_table(index=['yr'], columns = ['dy'], aggfunc = [np.count] \n",
    " , values = 'callDateTime', fill_na = 0, margins = True, dropna = True)\n",
    "df\n",
    "#stacked = ct.stack().reset_index().rename(columns={0:'val'})\n",
    "#bp = sns.barplot(stacked.index, stacked.val, hue=stacked.columns)\n",
    "#bp.set(xlabel='Year', ylabel='No. of Calls', title=tt)\n",
    "#plt.figure(figsize=(16,5)) \n",
    "#months = [\"Jan\", \"Feb\", \"Mar\", \"Apr\", \"May\", \"Jun\", \"Jul\", \"Aug\", \"Sep\", \"Oct\", \"Nov\", \"Dec\"]\n",
    "#ct = ct.reindex_axis(months)\n",
    "#sns.heatmap(ct, annot=True) xlabel='Priority', ylabels='Month/Year',\n",
    "#cmap=Blues, Greens, BuPu, YlGnBu, BuGn_r/reverse, BuGn_d/dark cubehelix/8\n",
    "#ax.set_yticklabels([i.strftime(\"%Y-%m-%d %H:%M:%S\") for i in dfPriority.index], rotation=0)"
   ]
  },
  {
   "cell_type": "code",
   "execution_count": null,
   "metadata": {},
   "outputs": [],
   "source": [
    "#df = pd.DataFrame(dict(time=np.arange(500), value=np.random.randn(500).cumsum()))\n",
    "#g = sns.relplot(x=\"hr\", y=\"callDateTime\", kind=\"line\", data=df)\n",
    "#g.fig.autofmt_xdate()\n",
    "\n",
    "g = sns.lmplot(x='yr', y='priority', data=df)# .loc[df.yr == '2015']) #kind=\"line\", \n",
    "#err: AttributeError: 'Series' object has no attribute 'yr'\n",
    "\n",
    "#g = sns.lmplot(x=['yr','dy'], y='priority', data=df)# .loc[df.yr == '2015']) #kind=\"line\", \n",
    "#TypeError: '<' not supported between instances of 'str' and 'list'\n",
    "\n",
    "g = sns.FacetGrid(df, row='priority', col='yr')\n",
    "g.map(sns.distplot, 'dy')\n",
    "plt.show()\n",
    "'''\n",
    "g = sns.FacetGrid(titanic, row='survived', col='class')\n",
    "g.map(sns.distplot, \"age\")\n",
    "plt.show()'''#plt.plot(df9115.yr, df9115.callType, color='red', label='callType')\n",
    "#plt.plot(df9116.yr, df9116.callType, color='green', label='callType')\n",
    "plt.plot(df9117.yr, df9117.callType.count(), color='blue', label='callType')\n",
    "plt.title('911 Police Calls - callType by Year')\n",
    "plt.ylabel('callType')\n",
    "plt.xlabel('Year')\n",
    "plt.legend(loc='lower right')\n",
    "plt.show()"
   ]
  },
  {
   "cell_type": "code",
   "execution_count": null,
   "metadata": {},
   "outputs": [],
   "source": [
    "df.groupby(['id', 'group', 'term']).count()"
   ]
  },
  {
   "cell_type": "code",
   "execution_count": null,
   "metadata": {},
   "outputs": [],
   "source": [
    "plt.plot(df911A.yr, df911A.loc[df911A.priority=='High'], color='red', label='Priority')\n",
    "#plt.plot(df9116.yr, df9116.priority, color='green', label='Priority')\n",
    "#plt.plot(df9117.yr, df9117.priority, color='blue', label='Priority')\n",
    "plt.title('911 Police Calls - Priority by Year')\n",
    "plt.ylabel('Priority')\n",
    "plt.xlabel('Year')\n",
    "plt.legend(loc='lower right')\n",
    "plt.show()"
   ]
  },
  {
   "cell_type": "code",
   "execution_count": null,
   "metadata": {
    "scrolled": true
   },
   "outputs": [],
   "source": [
    "import numpy as np\n",
    "import pandas as pd\n",
    "import seaborn as sns\n",
    "import matplotlib.pyplot as plt\n",
    "\n",
    "hour, direction = np.meshgrid(np.arange(24), np.arange(1,3))\n",
    "df = pd.DataFrame({\"hour\": hour.flatten(), \"direction\": direction.flatten()})\n",
    "df[\"hourly_avg_count\"] = np.random.randint(14,30, size=len(df))\n",
    "\n",
    "plt.figure(figsize=(12,8))\n",
    "sns.tsplot(df, time='hour', unit = \"direction\", \n",
    "               condition='direction', value='hourly_avg_count')\n",
    "\n",
    "plt.show()"
   ]
  },
  {
   "cell_type": "code",
   "execution_count": null,
   "metadata": {},
   "outputs": [],
   "source": []
  },
  {
   "cell_type": "markdown",
   "metadata": {},
   "source": [
    "#CLIP... CLIP... CLIP... CLIP... CLIP...\n",
    "#=============================================\n",
    "df911A.isnull().T.any().T.sum() #rows=61897\n",
    "df911A[df911A.isnull().T.any().T] #61897 rows/10 col; Nan latlong\n",
    "df911A.isnull().any().any() #True , any of the rows/cols is True\n",
    "df911A.isnull().count().count() #=10??? #.sum().sum()\n",
    "df911A[df911A['lat'].isnull()] #which rows have NaNs in a specific col, #nan_rows\n",
    "df911A[df911A['long'].isnull()] #61897 #nan_rows\n",
    "df911A.count()  #248503\n",
    "df911A[df911A['lat'].notnull()]  #186606 \n",
    "df911A[df911A.isnull().any(1)]    #61897 \n",
    "df911A.callType.unique()  \n",
    "#array(['Dischrg Firearm', 'Shooting', 'Other', ..., 'SCREAMING WOMAN', \n",
    "  'SERVE PEACE ORDE', 'OVERDOSE /POSS'], dtype=object)\n",
    "df911A.district.unique()  \n",
    "#array(['NW', 'SW', 'NE', 'SD', 'ED', 'WD', 'HP', 'SE', 'ND', 'CD', 'SS',\n",
    "  'CW', 'TRU', 'INFO', 'FIR1', 'EVT2'], dtype=object) #=16\n",
    "df911A.priority.unique()  \n",
    "#array(['High', 'Low', 'Medium', 'Non-Emergency', 'Out of Service',\n",
    "  'Emergency'], dtype=object)\n",
    "df911A.priority.value_counts()  #<<< \n",
    " #Medium            114701 #Low                64507 #High               37790 \n",
    " #Non-Emergency      31269 #Out of Service       174 #Emergency             62\n",
    "df911A.priority.value_counts()  #<<< \n",
    "\n",
    "for series: df911A(all(isnan(df911A{:,2:4}),2),:)\n",
    "df1['Hour']= df1['timeStamp'].apply(lambda tid: tid.hour)\n",
    "df1['Month']= df1['timeStamp'].apply(lambda tid: tid.month)\n",
    "df1['Day of Week']= df1['timeStamp'].apply(lambda tid: tid.dayofweek)\n",
    "df1.head()\n",
    "\n",
    "#import timeit #%%timeit # do it 100x; -n 100\n",
    "#df.sort_values(by, axis=0, ascending=True, inplace=False, kind='quicksort', na_position='last')\n",
    "#df911A.district.value_counts()  #<<< \n",
    " NE      37615 SW      27717 SE      27609 SD      27006 CD      26087\n",
    " WD      25023 NW      24655\n",
    "df911A.callType.value_counts()  #<<< \n",
    "Upper/lower case: ex: 911/No Voice, COMMON ASSAULT, Other, AUTO ACCIDENT, *INVESTIGATE\n",
    "Del Row: TEST CALL, \n",
    "df['Reason'] = df['title'].apply(lambda title: title.split(':')[0])   \n",
    "\n",
    "df911A.district.nunique() # 16 \n",
    "#array(['NW', 'SW', 'NE', 'SD', 'ED', 'WD', 'HP', 'SE', 'ND', 'CD', 'SS',\n",
    "  'CW', 'TRU', 'INFO', 'FIR1', 'EVT2'], dtype=object) #=16\n",
    "  \n",
    "  \n",
    "  df911.isnull().T.any().T.sum() #rows=61897, 6655\n",
    "plt.figure(figsize=(10,12)) \n",
    "ax = sns.heatmap(pd.crosstab([dfPriority.yr, dfPriority.mo], [dfPriority.priority]),yticklabels=3,\n",
    "    cmap=\"YlGnBu\", annot=True, cbar=True, linewidths=.50, fmt=\"{:+6f}\") #, normalize=True\n",
    "#df.style.format({'B': \"{:0<4.0f}\", 'D': '{:+.2f}'})\n",
    "cm = sns.light_palette(\"green\", as_cmap=True)\n",
    "\n",
    "s = df.style.background_gradient(cmap=cm)\n",
    "\n",
    "\n",
    "#8 Calc 4 cols by parsing from location = [street, cityState, lat, long]\n",
    "\n",
    "df911A['street'] = df911A.location.str.split('\\n').str[0]\n",
    "df911A['cityState'] = df911A.location.str.split('\\n').str[1]\n",
    "df911A['latLong'] = df911A.location.str.split('\\n').str[2]\n",
    "  #temp col. will parse lat and long from here. >>># Not run as of yet, for testing/verifying\n",
    "df911A['latLong'] = df911A.latLong.str.replace('(','')\n",
    "df911A['latLong'] = df911A.latLong.str.replace(')','')\n",
    "df911A['lat'] = df911A.latLong.str.split(',').str[0]\n",
    "df911A['long'] = df911A.latLong.str.split(',').str[1]\n",
    "df911A.tail() #chk\n",
    "\n",
    "#import timeit #%timeit #13min 15s ± 6.8 s per loop (mean ± std. dev. of 7 runs, 1 loop each)\n",
    "df911['dT'] =pd.to_datetime(df911.callDateTime)\n",
    "\n",
    "#3a# \n",
    "df911.to_csv('Data/w911PoliceCalls_BaltimoreMD_dTc.csv', sep=',', encoding='utf-8')\n",
    "\n",
    "c911x = pd.read_csv('Data/w911PoliceCalls_BaltimoreMD_dTc.csv')\n",
    "\n",
    "'''\n",
    "df.groupby(['id', 'group', 'term']).count()\n",
    "print (pd.crosstab([df.id, df.group], df.term))\n",
    "df.groupby(['id', 'group', 'term'])['term'].size().unstack(fill_value=0)\n",
    "df = pd.concat([df]*10000).reset_index(drop=True)\n",
    "\n",
    "In [48]: %timeit (df.groupby(['id', 'group', 'term']).size().unstack(fill_value=0))\n",
    "100 loops, best of 3: 12.4 ms per loop\n",
    "\n",
    "In [49]: %timeit (df.groupby(['id', 'group', 'term'])['term'].size().unstack(fill_value=0))\n",
    "100 loops, best of 3: 12.2 ms per loop\n",
    "\n",
    "df911.set_index('dT', drop=True)\n",
    "df911.sort_values(by='dT', inplace=True)\n",
    "df911.head(6) #chk\n",
    "'''.\n",
    "\n",
    "dfP3  =  df911A.query('priority in (\"High\", \"Medium\", \"Low\")')\n",
    "sns.countplot(x='dy', data=dfP3.loc[dfP3.yr == 2015], hue='priority')\n",
    "\n",
    "dfD5  =  df911A.query('district in (\"NE\", \"SW\", \"SE\", \"SD\", \"CD\")')\n",
    "sns.countplot(data=dfD5, x='yr', hue='district')\n",
    "\n",
    "byDate = df1.groupby(df1['Date']).count()['lat']\n",
    "byDate.head()\n",
    "\n",
    "dfDay.priority.plot(x='dy', hue='yr', kind='line')\n",
    "plt.tight_layout()\n",
    "#=============================================\n",
    "CLIP... CLIP... CLIP... CLIP... CLIP... CLIP..."
   ]
  },
  {
   "cell_type": "code",
   "execution_count": null,
   "metadata": {},
   "outputs": [],
   "source": [
    "#pd.crosstab(dfPnull.yr, dfPnull.priority) #priority district callType dT yr mo dy \n",
    "##ctList = ['COMMON ASSAULT','BURGLARY', 'DISORDERLY', 'ARMED PERSON', 'AGGRAV ASSAULT', 'LARCENCY', 'DESTRUCT PROPTY', 'DISCHRG FIREARM', 'FAMILY DISTURB', 'HIT AND RUN']\n",
    "#pd.crosstab(dfPnull.yr, dfPnull.loc[dfPnull.callType.any() in ctList])\n",
    "##pd.crosstab(dfPnull.yr, dfPnull.callType[dfPnull.callType.empty() in ctList])\n",
    "#pd.crosstab(dfPnull.yr, dfPnull.callType)\n",
    "#COMMON ASSAULT     1883 BURGLARY           1106 DISORDERLY          708 ARMED PERSON        338\n",
    "#AGGRAV ASSAULT      296 LARCENCY            253 DESTRUCT PROPTY     253 DISCHRG FIREARM     216\n",
    "#FAMILY DISTURB      203 HIT AND RUN         104"
   ]
  },
  {
   "cell_type": "code",
   "execution_count": null,
   "metadata": {},
   "outputs": [],
   "source": [
    "df911.count()  #248503\n",
    "df911.isnull().T.any().T.sum() #rows=61897\n",
    "df911[df911A.isnull().T.any().T] #61897 rows/10 col; Nan latlong\n",
    "df911.isnull().any().any() #True , any of the rows/cols is True\n",
    "df911.isnull().count().count() #=10??? #.sum().sum()\n",
    "df911[df911A['lat'].isnull()] #which rows have NaNs in a specific col, #nan_rows\n",
    "df911[df911A['long'].isnull()] #61897 #nan_rows\n",
    "df911[df911A['lat'].notnull()]  #186606 \n",
    "df911[df911A.isnull().any(1)]    #61897 \n",
    "df911.callType.unique()  \n",
    "df911.pivot_table(index=['yr', 'mo', 'dy'], columns= 'priority',aggfunc='size', fill_value=0)\n",
    "df911.crosstab([df911.yr, df911.mo, df911.dy], df911.priority)"
   ]
  },
  {
   "cell_type": "code",
   "execution_count": null,
   "metadata": {},
   "outputs": [],
   "source": [
    "## (Once result above is verified correct,) Drop columns: location, latlong, callDateTime (string)\n",
    "\n",
    "## temp/Skip for now\n",
    "df911Acopy = df911A.copy() \n",
    "df911Acopy.tail() #chk. STILL WORK ON df911A\n",
    "\n",
    "#9 Drop columns: callDateTime (string), location, latLong\n",
    "df911A.drop(['callDateTime','location', 'latLong'], axis=1, inplace=True)\n",
    "df911A.head()  #chk\n",
    "\n",
    "#10 #Data wrangle: df911A\n",
    "##a Empty/NULL\n",
    "##b NaN\n",
    "##c wrong values???\n",
    "\n",
    "#11\n",
    "#reindex on dT??? (datetime type), sort as needed. ['yr', 'dy']\n",
    "df911A.set_index(['dT'], drop=True)\n",
    "df911A.sort_values(['dT'], inplace=True)\n",
    "df911A.head(6)"
   ]
  }
 ],
 "metadata": {
  "kernelspec": {
   "display_name": "Python 3",
   "language": "python",
   "name": "python3"
  },
  "language_info": {
   "codemirror_mode": {
    "name": "ipython",
    "version": 3
   },
   "file_extension": ".py",
   "mimetype": "text/x-python",
   "name": "python",
   "nbconvert_exporter": "python",
   "pygments_lexer": "ipython3",
   "version": "3.6.4"
  }
 },
 "nbformat": 4,
 "nbformat_minor": 2
}
